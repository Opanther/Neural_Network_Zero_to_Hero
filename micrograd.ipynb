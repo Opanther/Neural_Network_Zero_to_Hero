{
 "cells": [
  {
   "cell_type": "code",
   "execution_count": 2,
   "metadata": {},
   "outputs": [],
   "source": [
    "import math\n",
    "import numpy as np\n",
    "import matplotlib.pyplot as plt\n",
    "import graphviz\n",
    "%matplotlib inline"
   ]
  },
  {
   "cell_type": "code",
   "execution_count": 2,
   "metadata": {},
   "outputs": [],
   "source": [
    "def f(x):\n",
    "    return 3*x**2 - 4*x + 5"
   ]
  },
  {
   "cell_type": "code",
   "execution_count": 3,
   "metadata": {},
   "outputs": [
    {
     "data": {
      "text/plain": [
       "20.0"
      ]
     },
     "execution_count": 3,
     "metadata": {},
     "output_type": "execute_result"
    }
   ],
   "source": [
    "f(3.0)"
   ]
  },
  {
   "cell_type": "code",
   "execution_count": 4,
   "metadata": {},
   "outputs": [
    {
     "data": {
      "image/png": "[encoded data removed]",
      "text/plain": [
       "<Figure size 640x480 with 1 Axes>"
      ]
     },
     "metadata": {},
     "output_type": "display_data"
    }
   ],
   "source": [
    "xs = np.arange(-5, 5, 0.25)\n",
    "ys = f(xs)\n",
    "ys \n",
    "plt.plot(xs, ys)\n",
    "plt.show()"
   ]
  },
  {
   "cell_type": "code",
   "execution_count": 5,
   "metadata": {},
   "outputs": [
    {
     "data": {
      "text/plain": [
       "14.00000009255109"
      ]
     },
     "execution_count": 5,
     "metadata": {},
     "output_type": "execute_result"
    }
   ],
   "source": [
    "h = 0.00000001\n",
    "x = 3.0\n",
    "(f(x + h) - f(x))/ h"
   ]
  },
  {
   "cell_type": "code",
   "execution_count": 6,
   "metadata": {},
   "outputs": [
    {
     "name": "stdout",
     "output_type": "stream",
     "text": [
      "4.0\n"
     ]
    }
   ],
   "source": [
    "a = 2.0\n",
    "b = -3.0\n",
    "c = 10.0\n",
    "d = a*b + c\n",
    "print(d)"
   ]
  },
  {
   "cell_type": "code",
   "execution_count": 9,
   "metadata": {},
   "outputs": [
    {
     "name": "stdout",
     "output_type": "stream",
     "text": [
      "d1 4.0\n",
      "d2 4.0002\n",
      "slope 2.0000000000042206\n"
     ]
    }
   ],
   "source": [
    "# h = 0.0001\n",
    "# # inputs\n",
    "# a = 2.0\n",
    "# b = -3.0\n",
    "# c = 10.0\n",
    "\n",
    "# d1 = a*b + c\n",
    "# a += h\n",
    "# d2 = a*b + c \n",
    "\n",
    "# print(\"d1\", d1)\n",
    "# print(\"d2\", d2)\n",
    "# print('slope', (d2-d1)/h)\n",
    "\n",
    "# Infulence on b numerical output\n",
    "h = 0.0001\n",
    "# inputs\n",
    "a = 2.0\n",
    "b = -3.0\n",
    "c = 10.0\n",
    "\n",
    "d1 = a*b + c\n",
    "b += h\n",
    "d2 = a*b + c \n",
    "\n",
    "print(\"d1\", d1)\n",
    "print(\"d2\", d2)\n",
    "print('slope', (d2-d1)/h)"
   ]
  },
  {
   "cell_type": "code",
   "execution_count": 105,
   "metadata": {},
   "outputs": [],
   "source": [
    "class Value:\n",
    "    \n",
    "    def __init__(self, data, _children=(), _op='', label=''):\n",
    "        self.data = data\n",
    "        self.grad = 0.0\n",
    "        self._backward = lambda: None\n",
    "        self._prev = set(_children)\n",
    "        self._op = _op\n",
    "        self.label = label\n",
    "    \n",
    "    def __repr__(self) -> str:\n",
    "        return f\"Value(data={self.data})\"\n",
    "    \n",
    "    def __add__(self, other):\n",
    "        other = other if isinstance(other, Value) else Value(other)\n",
    "        out = Value(self.data + other.data, (self, other), '+')\n",
    "        \n",
    "        def _backward():\n",
    "            self.grad += 1.0 * out.grad\n",
    "            other.grad += 1.0 * out.grad\n",
    "        out._backward = _backward\n",
    "\n",
    "        return out\n",
    "\n",
    "    def __pow__(self, other):\n",
    "        assert isinstance(other, (int, float)), \"only supporting int/float powers for now\"\n",
    "        out = Value(self.data**other, (self,), f'**{other}')\n",
    "\n",
    "        def _backward():\n",
    "            self.grad += other * (self.data ** (other -1)) * out.grad\n",
    "        out._backward = _backward\n",
    "\n",
    "        return out\n",
    "\n",
    "    def __rmul__(self, other):\n",
    "        return self * other\n",
    "\n",
    "    def __truediv__(self, other): # self / other\n",
    "        return self * other**-1\n",
    "\n",
    "    def __neg__(self): # -self\n",
    "        return self * -1\n",
    "\n",
    "    def __sub__(self, other): # self - other\n",
    "        return self + (-other)\n",
    "\n",
    "    def __radd__(self, other): # other + self\n",
    "        return self + other\n",
    "\n",
    "    def __mul__(self, other):\n",
    "        other = other if isinstance(other, Value) else Value(other)\n",
    "        out = Value(self.data * other.data, (self, other), '*')\n",
    "\n",
    "        def _backward():\n",
    "            self.grad += other.data * out.grad\n",
    "            other.grad += self.data * out.grad\n",
    "        out._backward = _backward\n",
    "        \n",
    "        return out\n",
    "    \n",
    "    def tanh(self):\n",
    "        x = self.data\n",
    "        t = (math.exp(2*x) -1)/(math.exp(2*x) + 1)\n",
    "        out = Value(t, (self, ), 'tanh')\n",
    "\n",
    "        def _backward():\n",
    "            self.grad += (1 - t**2) * out.grad\n",
    "        out._backward = _backward\n",
    "        \n",
    "        return out\n",
    "\n",
    "    def exp(self):\n",
    "        x = self.data\n",
    "        out = Value(math.exp(x), (self, ), 'exp') \n",
    "\n",
    "        def _backward():\n",
    "            self.grad = out.data * out.grad\n",
    "        out._backward = _backward\n",
    "\n",
    "        return out\n",
    "    \n",
    "    def backward(self):\n",
    "\n",
    "        topo = []\n",
    "        visited = set()\n",
    "        def build_topo(v):\n",
    "            if v not in visited:\n",
    "                visited.add(v)\n",
    "                for child in v._prev:\n",
    "                    build_topo(child)\n",
    "                topo.append(v)\n",
    "        build_topo(self)\n",
    "\n",
    "        self.grad = 1.0\n",
    "        for node in reversed(topo):\n",
    "            node._backward()\n",
    "        \n",
    "\n",
    "\n"
   ]
  },
  {
   "cell_type": "code",
   "execution_count": 103,
   "metadata": {},
   "outputs": [
    {
     "data": {
      "text/plain": [
       "Value(data=0.5)"
      ]
     },
     "execution_count": 103,
     "metadata": {},
     "output_type": "execute_result"
    }
   ],
   "source": [
    "a = Value(2.0)\n",
    "b = Value(4.0)\n",
    "a / b"
   ]
  },
  {
   "cell_type": "code",
   "execution_count": 22,
   "metadata": {},
   "outputs": [
    {
     "data": {
      "text/plain": [
       "'+'"
      ]
     },
     "execution_count": 22,
     "metadata": {},
     "output_type": "execute_result"
    }
   ],
   "source": [
    "d._prev\n",
    "d._op"
   ]
  },
  {
   "cell_type": "code",
   "execution_count": 28,
   "metadata": {},
   "outputs": [],
   "source": [
    "from graphviz import Digraph\n",
    "\n",
    "def trace(root):\n",
    "    # builds a set of all nodes and edges in a graph\n",
    "    nodes, edges = set(), set()\n",
    "    def build(v):\n",
    "        if v not in nodes:\n",
    "            nodes.add(v)\n",
    "            for child in v._prev:\n",
    "                edges.add((child, v))\n",
    "                build(child)\n",
    "    build(root)\n",
    "    return nodes, edges\n",
    "\n",
    "def draw_dot(root):\n",
    "    dot = Digraph(format='svg', graph_attr={'rankdir': 'LR'}) # LR = left to right\n",
    "    nodes, edges = trace(root)\n",
    "    for n in nodes:\n",
    "        uid = str(id(n))\n",
    "        # for any value in the graph, create a rectangular ('record')node for it\n",
    "        dot.node(name = uid, label =\"{ %s | data %.4f | grad %.4f}\" % (n.label, n.data, n.grad), shape='record')\n",
    "        if n._op:\n",
    "            # if this value is a result of some operation, create an op node for it\n",
    "            dot.node(name = uid + n._op, label = n._op)\n",
    "            # and connect this node to it\n",
    "            dot.edge(uid + n._op, uid)\n",
    "    for n1, n2 in edges:\n",
    "        # connect n1 to the op node of n2\n",
    "        dot.edge(str(id(n1)), str(id(n2)) + n2._op)\n",
    "    \n",
    "    return dot"
   ]
  },
  {
   "cell_type": "code",
   "execution_count": 30,
   "metadata": {},
   "outputs": [
    {
     "data": {
      "image/svg+xml": "<?xml version=\"1.0\" encoding=\"UTF-8\" standalone=\"no\"?>\n<!DOCTYPE svg PUBLIC \"-//W3C//DTD SVG 1.1//EN\"\n \"http://www.w3.org/Graphics/SVG/1.1/DTD/svg11.dtd\">\n<!-- Generated by graphviz version 9.0.0 (0)\n -->\n<!-- Pages: 1 -->\n<svg width=\"1151pt\" height=\"128pt\"\n viewBox=\"0.00 0.00 1151.00 128.00\" xmlns=\"http://www.w3.org/2000/svg\" xmlns:xlink=\"http://www.w3.org/1999/xlink\">\n<g id=\"graph0\" class=\"graph\" transform=\"scale(1 1) rotate(0) translate(4 124)\">\n<polygon fill=\"white\" stroke=\"none\" points=\"-4,4 -4,-124 1147,-124 1147,4 -4,4\"/>\n<!-- 4428465168 -->\n<g id=\"node1\" class=\"node\">\n<title>4428465168</title>\n<polygon fill=\"none\" stroke=\"black\" points=\"318.75,-83.5 318.75,-119.5 513,-119.5 513,-83.5 318.75,-83.5\"/>\n<text text-anchor=\"middle\" x=\"329.75\" y=\"-96.7\" font-family=\"Times,serif\" font-size=\"14.00\">c</text>\n<polyline fill=\"none\" stroke=\"black\" points=\"340.75,-84 340.75,-119.5\"/>\n<text text-anchor=\"middle\" x=\"384\" y=\"-96.7\" font-family=\"Times,serif\" font-size=\"14.00\">data 10.0000</text>\n<polyline fill=\"none\" stroke=\"black\" points=\"427.25,-84 427.25,-119.5\"/>\n<text text-anchor=\"middle\" x=\"470.12\" y=\"-96.7\" font-family=\"Times,serif\" font-size=\"14.00\">grad &#45;2.0000</text>\n</g>\n<!-- 4428469584+ -->\n<g id=\"node8\" class=\"node\">\n<title>4428469584+</title>\n<ellipse fill=\"none\" stroke=\"black\" cx=\"576\" cy=\"-73.5\" rx=\"27\" ry=\"18\"/>\n<text text-anchor=\"middle\" x=\"576\" y=\"-68.45\" font-family=\"Times,serif\" font-size=\"14.00\">+</text>\n</g>\n<!-- 4428465168&#45;&gt;4428469584+ -->\n<g id=\"edge6\" class=\"edge\">\n<title>4428465168&#45;&gt;4428469584+</title>\n<path fill=\"none\" stroke=\"black\" d=\"M513.41,-84.41C522.21,-82.85 530.7,-81.34 538.42,-79.98\"/>\n<polygon fill=\"black\" stroke=\"black\" points=\"538.77,-83.47 548,-78.28 537.55,-76.58 538.77,-83.47\"/>\n</g>\n<!-- 4428464272 -->\n<g id=\"node2\" class=\"node\">\n<title>4428464272</title>\n<polygon fill=\"none\" stroke=\"black\" points=\"640.12,-0.5 640.12,-36.5 826.12,-36.5 826.12,-0.5 640.12,-0.5\"/>\n<text text-anchor=\"middle\" x=\"650.38\" y=\"-13.7\" font-family=\"Times,serif\" font-size=\"14.00\">f</text>\n<polyline fill=\"none\" stroke=\"black\" points=\"660.62,-1 660.62,-36.5\"/>\n<text text-anchor=\"middle\" x=\"702.75\" y=\"-13.7\" font-family=\"Times,serif\" font-size=\"14.00\">data &#45;2.0000</text>\n<polyline fill=\"none\" stroke=\"black\" points=\"744.88,-1 744.88,-36.5\"/>\n<text text-anchor=\"middle\" x=\"785.5\" y=\"-13.7\" font-family=\"Times,serif\" font-size=\"14.00\">grad 4.0000</text>\n</g>\n<!-- 4428468432* -->\n<g id=\"node6\" class=\"node\">\n<title>4428468432*</title>\n<ellipse fill=\"none\" stroke=\"black\" cx=\"890.25\" cy=\"-45.5\" rx=\"27\" ry=\"18\"/>\n<text text-anchor=\"middle\" x=\"890.25\" y=\"-40.45\" font-family=\"Times,serif\" font-size=\"14.00\">*</text>\n</g>\n<!-- 4428464272&#45;&gt;4428468432* -->\n<g id=\"edge5\" class=\"edge\">\n<title>4428464272&#45;&gt;4428468432*</title>\n<path fill=\"none\" stroke=\"black\" d=\"M826.6,-34.6C835.76,-36.19 844.62,-37.73 852.67,-39.13\"/>\n<polygon fill=\"black\" stroke=\"black\" points=\"851.85,-42.54 862.3,-40.81 853.05,-35.65 851.85,-42.54\"/>\n</g>\n<!-- 4428469456 -->\n<g id=\"node3\" class=\"node\">\n<title>4428469456</title>\n<polygon fill=\"none\" stroke=\"black\" points=\"319.88,-28.5 319.88,-64.5 511.88,-64.5 511.88,-28.5 319.88,-28.5\"/>\n<text text-anchor=\"middle\" x=\"330.88\" y=\"-41.7\" font-family=\"Times,serif\" font-size=\"14.00\">e</text>\n<polyline fill=\"none\" stroke=\"black\" points=\"341.88,-29 341.88,-64.5\"/>\n<text text-anchor=\"middle\" x=\"384\" y=\"-41.7\" font-family=\"Times,serif\" font-size=\"14.00\">data &#45;6.0000</text>\n<polyline fill=\"none\" stroke=\"black\" points=\"426.12,-29 426.12,-64.5\"/>\n<text text-anchor=\"middle\" x=\"469\" y=\"-41.7\" font-family=\"Times,serif\" font-size=\"14.00\">grad &#45;2.0000</text>\n</g>\n<!-- 4428469456&#45;&gt;4428469584+ -->\n<g id=\"edge4\" class=\"edge\">\n<title>4428469456&#45;&gt;4428469584+</title>\n<path fill=\"none\" stroke=\"black\" d=\"M512.05,-62.75C521.28,-64.33 530.2,-65.85 538.29,-67.23\"/>\n<polygon fill=\"black\" stroke=\"black\" points=\"537.53,-70.65 547.98,-68.89 538.71,-63.75 537.53,-70.65\"/>\n</g>\n<!-- 4428469456* -->\n<g id=\"node4\" class=\"node\">\n<title>4428469456*</title>\n<ellipse fill=\"none\" stroke=\"black\" cx=\"255.75\" cy=\"-46.5\" rx=\"27\" ry=\"18\"/>\n<text text-anchor=\"middle\" x=\"255.75\" y=\"-41.45\" font-family=\"Times,serif\" font-size=\"14.00\">*</text>\n</g>\n<!-- 4428469456*&#45;&gt;4428469456 -->\n<g id=\"edge1\" class=\"edge\">\n<title>4428469456*&#45;&gt;4428469456</title>\n<path fill=\"none\" stroke=\"black\" d=\"M283.22,-46.5C290.59,-46.5 299.09,-46.5 308.13,-46.5\"/>\n<polygon fill=\"black\" stroke=\"black\" points=\"307.89,-50 317.89,-46.5 307.89,-43 307.89,-50\"/>\n</g>\n<!-- 4428468432 -->\n<g id=\"node5\" class=\"node\">\n<title>4428468432</title>\n<polygon fill=\"none\" stroke=\"black\" points=\"953.25,-27.5 953.25,-63.5 1143,-63.5 1143,-27.5 953.25,-27.5\"/>\n<text text-anchor=\"middle\" x=\"965.38\" y=\"-40.7\" font-family=\"Times,serif\" font-size=\"14.00\">L</text>\n<polyline fill=\"none\" stroke=\"black\" points=\"977.5,-28 977.5,-63.5\"/>\n<text text-anchor=\"middle\" x=\"1019.62\" y=\"-40.7\" font-family=\"Times,serif\" font-size=\"14.00\">data &#45;8.0000</text>\n<polyline fill=\"none\" stroke=\"black\" points=\"1061.75,-28 1061.75,-63.5\"/>\n<text text-anchor=\"middle\" x=\"1102.38\" y=\"-40.7\" font-family=\"Times,serif\" font-size=\"14.00\">grad 1.0000</text>\n</g>\n<!-- 4428468432*&#45;&gt;4428468432 -->\n<g id=\"edge2\" class=\"edge\">\n<title>4428468432*&#45;&gt;4428468432</title>\n<path fill=\"none\" stroke=\"black\" d=\"M917.69,-45.5C924.84,-45.5 933.03,-45.5 941.74,-45.5\"/>\n<polygon fill=\"black\" stroke=\"black\" points=\"941.51,-49 951.51,-45.5 941.51,-42 941.51,-49\"/>\n</g>\n<!-- 4428469584 -->\n<g id=\"node7\" class=\"node\">\n<title>4428469584</title>\n<polygon fill=\"none\" stroke=\"black\" points=\"639,-55.5 639,-91.5 827.25,-91.5 827.25,-55.5 639,-55.5\"/>\n<text text-anchor=\"middle\" x=\"650.38\" y=\"-68.7\" font-family=\"Times,serif\" font-size=\"14.00\">d</text>\n<polyline fill=\"none\" stroke=\"black\" points=\"661.75,-56 661.75,-91.5\"/>\n<text text-anchor=\"middle\" x=\"701.62\" y=\"-68.7\" font-family=\"Times,serif\" font-size=\"14.00\">data 4.0000</text>\n<polyline fill=\"none\" stroke=\"black\" points=\"741.5,-56 741.5,-91.5\"/>\n<text text-anchor=\"middle\" x=\"784.38\" y=\"-68.7\" font-family=\"Times,serif\" font-size=\"14.00\">grad &#45;2.0000</text>\n</g>\n<!-- 4428469584&#45;&gt;4428468432* -->\n<g id=\"edge7\" class=\"edge\">\n<title>4428469584&#45;&gt;4428468432*</title>\n<path fill=\"none\" stroke=\"black\" d=\"M827.49,-56.65C836.36,-55.05 844.93,-53.5 852.73,-52.09\"/>\n<polygon fill=\"black\" stroke=\"black\" points=\"853.2,-55.56 862.42,-50.34 851.95,-48.68 853.2,-55.56\"/>\n</g>\n<!-- 4428469584+&#45;&gt;4428469584 -->\n<g id=\"edge3\" class=\"edge\">\n<title>4428469584+&#45;&gt;4428469584</title>\n<path fill=\"none\" stroke=\"black\" d=\"M603.31,-73.5C610.49,-73.5 618.72,-73.5 627.47,-73.5\"/>\n<polygon fill=\"black\" stroke=\"black\" points=\"627.29,-77 637.29,-73.5 627.29,-70 627.29,-77\"/>\n</g>\n<!-- 4428466512 -->\n<g id=\"node9\" class=\"node\">\n<title>4428466512</title>\n<polygon fill=\"none\" stroke=\"black\" points=\"0,-56.5 0,-92.5 192.75,-92.5 192.75,-56.5 0,-56.5\"/>\n<text text-anchor=\"middle\" x=\"11.38\" y=\"-69.7\" font-family=\"Times,serif\" font-size=\"14.00\">b</text>\n<polyline fill=\"none\" stroke=\"black\" points=\"22.75,-57 22.75,-92.5\"/>\n<text text-anchor=\"middle\" x=\"64.88\" y=\"-69.7\" font-family=\"Times,serif\" font-size=\"14.00\">data &#45;3.0000</text>\n<polyline fill=\"none\" stroke=\"black\" points=\"107,-57 107,-92.5\"/>\n<text text-anchor=\"middle\" x=\"149.88\" y=\"-69.7\" font-family=\"Times,serif\" font-size=\"14.00\">grad &#45;4.0000</text>\n</g>\n<!-- 4428466512&#45;&gt;4428469456* -->\n<g id=\"edge8\" class=\"edge\">\n<title>4428466512&#45;&gt;4428469456*</title>\n<path fill=\"none\" stroke=\"black\" d=\"M193,-57.49C201.81,-55.92 210.32,-54.41 218.06,-53.03\"/>\n<polygon fill=\"black\" stroke=\"black\" points=\"218.43,-56.52 227.66,-51.32 217.21,-49.62 218.43,-56.52\"/>\n</g>\n<!-- 4428467152 -->\n<g id=\"node10\" class=\"node\">\n<title>4428467152</title>\n<polygon fill=\"none\" stroke=\"black\" points=\"4.88,-1.5 4.88,-37.5 187.88,-37.5 187.88,-1.5 4.88,-1.5\"/>\n<text text-anchor=\"middle\" x=\"15.88\" y=\"-14.7\" font-family=\"Times,serif\" font-size=\"14.00\">a</text>\n<polyline fill=\"none\" stroke=\"black\" points=\"26.88,-2 26.88,-37.5\"/>\n<text text-anchor=\"middle\" x=\"66.75\" y=\"-14.7\" font-family=\"Times,serif\" font-size=\"14.00\">data 2.0000</text>\n<polyline fill=\"none\" stroke=\"black\" points=\"106.62,-2 106.62,-37.5\"/>\n<text text-anchor=\"middle\" x=\"147.25\" y=\"-14.7\" font-family=\"Times,serif\" font-size=\"14.00\">grad 6.0000</text>\n</g>\n<!-- 4428467152&#45;&gt;4428469456* -->\n<g id=\"edge9\" class=\"edge\">\n<title>4428467152&#45;&gt;4428469456*</title>\n<path fill=\"none\" stroke=\"black\" d=\"M188.01,-35.05C198.46,-36.84 208.62,-38.59 217.74,-40.15\"/>\n<polygon fill=\"black\" stroke=\"black\" points=\"217.11,-43.59 227.56,-41.84 218.3,-36.69 217.11,-43.59\"/>\n</g>\n</g>\n</svg>\n",
      "text/plain": [
       "<graphviz.graphs.Digraph at 0x1318edfd0>"
      ]
     },
     "execution_count": 30,
     "metadata": {},
     "output_type": "execute_result"
    }
   ],
   "source": [
    "draw_dot(L)"
   ]
  },
  {
   "cell_type": "markdown",
   "metadata": {},
   "source": [
    "Notes of backprop\n",
    "L = d * f\n",
    "woould like to know the derivative dL/dd, a derivative is (f(x+h) - f(x))/h...\n",
    "...((d+h)*f - d*f)/h --> (d*f + h*f - d*f) / h --> (h*f)/h --> f\n",
    "\n",
    "now I need to Understand dL / dc, but first what is dd / dc and dd / de, who know that d = c + e,understanding this gives us 1.0, this is shown below\n",
    "\n",
    "(f(x+h) - f(x)) / h ---> ((c+h + e) - (c + e))/h ---> (c + h + e - c - e)/h ---> h/h --> 1.0\n",
    "\n",
    "by symmetery dd / de would also be 1.0.\n",
    "\n",
    "Using chain rule\n",
    "we want: dL / dc = (dL / dd) * (dd / dc)\n",
    "we know: dL/ dd, dd / dc, \n",
    "\n",
    "for the first node using chain rule\n",
    "dL/ de = -2.0\n",
    "e = a * b\n",
    "de / da gives the value b, see first three lines for refresher\n",
    "dL / da = (dL / de) * (de / da)\n",
    "\n",
    "\n"
   ]
  },
  {
   "cell_type": "code",
   "execution_count": 25,
   "metadata": {},
   "outputs": [],
   "source": [
    "a.grad = -2.0 * -3.0\n",
    "b.grad = -2.0 * 2.0"
   ]
  },
  {
   "cell_type": "code",
   "execution_count": 16,
   "metadata": {},
   "outputs": [],
   "source": [
    "c.grad = -2.0\n",
    "e.grad = -2.0"
   ]
  },
  {
   "cell_type": "code",
   "execution_count": 9,
   "metadata": {},
   "outputs": [],
   "source": [
    "f.grad = 4.0\n",
    "d.grad = -2"
   ]
  },
  {
   "cell_type": "code",
   "execution_count": 24,
   "metadata": {},
   "outputs": [
    {
     "name": "stdout",
     "output_type": "stream",
     "text": [
      "-3.9999999999995595\n"
     ]
    }
   ],
   "source": [
    "def lol():\n",
    "\n",
    "    h = 0.001\n",
    "\n",
    "    a = Value(2.0, label='a')\n",
    "    b = Value(-3.0, label='b')\n",
    "    c = Value(10.0, label= 'c')\n",
    "    e = a*b; e.label = 'e' \n",
    "    d = e + c; d.label = 'd'\n",
    "    f = Value(-2.0, label='f')\n",
    "    L = d * f; L.label = 'L'\n",
    "    L1 = L.data\n",
    "\n",
    "    a = Value(2.0 , label='a')\n",
    "    b = Value(-3.0  , label='b')\n",
    "    c = Value(10.0 , label= 'c')\n",
    "    e = a*b; e.label = 'e'\n",
    "    d = e + c; d.label = 'd'\n",
    "    f = Value(-2.0  , label='f')\n",
    "    L = d * f; L.label = 'L'\n",
    "    L2 = L.data \n",
    "\n",
    "    print((L2 - L1)/h)\n",
    "\n",
    "lol()"
   ]
  },
  {
   "cell_type": "markdown",
   "metadata": {},
   "source": [
    "# Backpropagate through a neuron"
   ]
  },
  {
   "cell_type": "code",
   "execution_count": 33,
   "metadata": {},
   "outputs": [
    {
     "data": {
      "image/png": "[encoded data removed]",
      "text/plain": [
       "<Figure size 640x480 with 1 Axes>"
      ]
     },
     "metadata": {},
     "output_type": "display_data"
    }
   ],
   "source": [
    "plt.plot(np.arange(-5,5,0.2), np.tanh(np.arange(-5,5,0.2)))\n",
    "plt.grid()\n",
    "plt.show()"
   ]
  },
  {
   "cell_type": "code",
   "execution_count": 83,
   "metadata": {},
   "outputs": [],
   "source": [
    "# inputs x1, x2\n",
    "x1 = Value(2.0, label='x1')\n",
    "x2 = Value(0.0, label='x2')\n",
    "# weights w1,w2\n",
    "w1 = Value(-3.0, label='w1')\n",
    "w2 = Value(1.0, label='w2')\n",
    "# bias of the neuron\n",
    "b = Value(6.8813735870195432, label='b')\n",
    "\n",
    "x1w1 = x1*w1; x1w1.label = 'x1*w1'\n",
    "x2w2 = x2*w2; x2w2.label = 'x2*w2'\n",
    "x1w1x2w2 = x1w1 + x2w2; x1w1x2w2.label = 'x1*w1 + x2*w2'\n",
    "n = x1w1x2w2 + b; n.label = 'n'\n",
    "o = n.tanh(); o.label = 'o'\n",
    "\n"
   ]
  },
  {
   "cell_type": "code",
   "execution_count": 106,
   "metadata": {},
   "outputs": [
    {
     "data": {
      "image/svg+xml": "<?xml version=\"1.0\" encoding=\"UTF-8\" standalone=\"no\"?>\n<!DOCTYPE svg PUBLIC \"-//W3C//DTD SVG 1.1//EN\"\n \"http://www.w3.org/Graphics/SVG/1.1/DTD/svg11.dtd\">\n<!-- Generated by graphviz version 9.0.0 (0)\n -->\n<!-- Pages: 1 -->\n<svg width=\"2929pt\" height=\"239pt\"\n viewBox=\"0.00 0.00 2929.25 239.00\" xmlns=\"http://www.w3.org/2000/svg\" xmlns:xlink=\"http://www.w3.org/1999/xlink\">\n<g id=\"graph0\" class=\"graph\" transform=\"scale(1 1) rotate(0) translate(4 235)\">\n<polygon fill=\"white\" stroke=\"none\" points=\"-4,4 -4,-235 2925.25,-235 2925.25,4 -4,4\"/>\n<!-- 5514108368 -->\n<g id=\"node1\" class=\"node\">\n<title>5514108368</title>\n<polygon fill=\"none\" stroke=\"black\" points=\"3.75,-194.5 3.75,-230.5 194.25,-230.5 194.25,-194.5 3.75,-194.5\"/>\n<text text-anchor=\"middle\" x=\"18.5\" y=\"-207.7\" font-family=\"Times,serif\" font-size=\"14.00\">x2</text>\n<polyline fill=\"none\" stroke=\"black\" points=\"33.25,-195 33.25,-230.5\"/>\n<text text-anchor=\"middle\" x=\"73.12\" y=\"-207.7\" font-family=\"Times,serif\" font-size=\"14.00\">data 0.0000</text>\n<polyline fill=\"none\" stroke=\"black\" points=\"113,-195 113,-230.5\"/>\n<text text-anchor=\"middle\" x=\"153.62\" y=\"-207.7\" font-family=\"Times,serif\" font-size=\"14.00\">grad 0.5000</text>\n</g>\n<!-- 5514102224* -->\n<g id=\"node28\" class=\"node\">\n<title>5514102224*</title>\n<ellipse fill=\"none\" stroke=\"black\" cx=\"261\" cy=\"-157.5\" rx=\"27\" ry=\"18\"/>\n<text text-anchor=\"middle\" x=\"261\" y=\"-152.45\" font-family=\"Times,serif\" font-size=\"14.00\">*</text>\n</g>\n<!-- 5514108368&#45;&gt;5514102224* -->\n<g id=\"edge24\" class=\"edge\">\n<title>5514108368&#45;&gt;5514102224*</title>\n<path fill=\"none\" stroke=\"black\" d=\"M172.12,-194.01C180.9,-191.35 189.7,-188.5 198,-185.5 208.09,-181.86 218.82,-177.27 228.47,-172.88\"/>\n<polygon fill=\"black\" stroke=\"black\" points=\"229.86,-176.09 237.45,-168.69 226.9,-169.75 229.86,-176.09\"/>\n</g>\n<!-- 5514101776 -->\n<g id=\"node2\" class=\"node\">\n<title>5514101776</title>\n<polygon fill=\"none\" stroke=\"black\" points=\"1992.75,-82.5 1992.75,-118.5 2178,-118.5 2178,-82.5 1992.75,-82.5\"/>\n<text text-anchor=\"middle\" x=\"2002.62\" y=\"-95.7\" font-family=\"Times,serif\" font-size=\"14.00\"> </text>\n<polyline fill=\"none\" stroke=\"black\" points=\"2012.5,-83 2012.5,-118.5\"/>\n<text text-anchor=\"middle\" x=\"2052.38\" y=\"-95.7\" font-family=\"Times,serif\" font-size=\"14.00\">data 6.8284</text>\n<polyline fill=\"none\" stroke=\"black\" points=\"2092.25,-83 2092.25,-118.5\"/>\n<text text-anchor=\"middle\" x=\"2135.12\" y=\"-95.7\" font-family=\"Times,serif\" font-size=\"14.00\">grad &#45;0.1036</text>\n</g>\n<!-- 5514101840**&#45;1 -->\n<g id=\"node5\" class=\"node\">\n<title>5514101840**&#45;1</title>\n<ellipse fill=\"none\" stroke=\"black\" cx=\"2304.38\" cy=\"-100.5\" rx=\"27.81\" ry=\"18\"/>\n<text text-anchor=\"middle\" x=\"2304.38\" y=\"-95.45\" font-family=\"Times,serif\" font-size=\"14.00\">**&#45;1</text>\n</g>\n<!-- 5514101776&#45;&gt;5514101840**&#45;1 -->\n<g id=\"edge28\" class=\"edge\">\n<title>5514101776&#45;&gt;5514101840**&#45;1</title>\n<path fill=\"none\" stroke=\"black\" d=\"M2178.4,-100.5C2208.64,-100.5 2240.63,-100.5 2264.67,-100.5\"/>\n<polygon fill=\"black\" stroke=\"black\" points=\"2264.62,-104 2274.62,-100.5 2264.62,-97 2264.62,-104\"/>\n</g>\n<!-- 5514101776+ -->\n<g id=\"node3\" class=\"node\">\n<title>5514101776+</title>\n<ellipse fill=\"none\" stroke=\"black\" cx=\"1929.75\" cy=\"-100.5\" rx=\"27\" ry=\"18\"/>\n<text text-anchor=\"middle\" x=\"1929.75\" y=\"-95.45\" font-family=\"Times,serif\" font-size=\"14.00\">+</text>\n</g>\n<!-- 5514101776+&#45;&gt;5514101776 -->\n<g id=\"edge1\" class=\"edge\">\n<title>5514101776+&#45;&gt;5514101776</title>\n<path fill=\"none\" stroke=\"black\" d=\"M1957.16,-100.5C1964.2,-100.5 1972.25,-100.5 1980.8,-100.5\"/>\n<polygon fill=\"black\" stroke=\"black\" points=\"1980.79,-104 1990.79,-100.5 1980.79,-97 1980.79,-104\"/>\n</g>\n<!-- 5514101840 -->\n<g id=\"node4\" class=\"node\">\n<title>5514101840</title>\n<polygon fill=\"none\" stroke=\"black\" points=\"2430.75,-80.5 2430.75,-116.5 2611.5,-116.5 2611.5,-80.5 2430.75,-80.5\"/>\n<text text-anchor=\"middle\" x=\"2440.62\" y=\"-93.7\" font-family=\"Times,serif\" font-size=\"14.00\"> </text>\n<polyline fill=\"none\" stroke=\"black\" points=\"2450.5,-81 2450.5,-116.5\"/>\n<text text-anchor=\"middle\" x=\"2490.38\" y=\"-93.7\" font-family=\"Times,serif\" font-size=\"14.00\">data 0.1464</text>\n<polyline fill=\"none\" stroke=\"black\" points=\"2530.25,-81 2530.25,-116.5\"/>\n<text text-anchor=\"middle\" x=\"2570.88\" y=\"-93.7\" font-family=\"Times,serif\" font-size=\"14.00\">grad 4.8284</text>\n</g>\n<!-- 5514101456* -->\n<g id=\"node12\" class=\"node\">\n<title>5514101456*</title>\n<ellipse fill=\"none\" stroke=\"black\" cx=\"2674.5\" cy=\"-72.5\" rx=\"27\" ry=\"18\"/>\n<text text-anchor=\"middle\" x=\"2674.5\" y=\"-67.45\" font-family=\"Times,serif\" font-size=\"14.00\">*</text>\n</g>\n<!-- 5514101840&#45;&gt;5514101456* -->\n<g id=\"edge13\" class=\"edge\">\n<title>5514101840&#45;&gt;5514101456*</title>\n<path fill=\"none\" stroke=\"black\" d=\"M2611.93,-83.08C2620.54,-81.6 2628.89,-80.16 2636.53,-78.85\"/>\n<polygon fill=\"black\" stroke=\"black\" points=\"2637.11,-82.3 2646.37,-77.16 2635.92,-75.4 2637.11,-82.3\"/>\n</g>\n<!-- 5514101840**&#45;1&#45;&gt;5514101840 -->\n<g id=\"edge2\" class=\"edge\">\n<title>5514101840**&#45;1&#45;&gt;5514101840</title>\n<path fill=\"none\" stroke=\"black\" d=\"M2332.57,-100.25C2354.68,-100.04 2387.33,-99.74 2419.22,-99.44\"/>\n<polygon fill=\"black\" stroke=\"black\" points=\"2418.96,-102.94 2428.93,-99.35 2418.9,-95.94 2418.96,-102.94\"/>\n</g>\n<!-- 5514115152 -->\n<g id=\"node6\" class=\"node\">\n<title>5514115152</title>\n<polygon fill=\"none\" stroke=\"black\" points=\"2.25,-139.5 2.25,-175.5 195.75,-175.5 195.75,-139.5 2.25,-139.5\"/>\n<text text-anchor=\"middle\" x=\"18.5\" y=\"-152.7\" font-family=\"Times,serif\" font-size=\"14.00\">w2</text>\n<polyline fill=\"none\" stroke=\"black\" points=\"34.75,-140 34.75,-175.5\"/>\n<text text-anchor=\"middle\" x=\"74.62\" y=\"-152.7\" font-family=\"Times,serif\" font-size=\"14.00\">data 1.0000</text>\n<polyline fill=\"none\" stroke=\"black\" points=\"114.5,-140 114.5,-175.5\"/>\n<text text-anchor=\"middle\" x=\"155.12\" y=\"-152.7\" font-family=\"Times,serif\" font-size=\"14.00\">grad 0.0000</text>\n</g>\n<!-- 5514115152&#45;&gt;5514102224* -->\n<g id=\"edge17\" class=\"edge\">\n<title>5514115152&#45;&gt;5514102224*</title>\n<path fill=\"none\" stroke=\"black\" d=\"M195.84,-157.5C205.14,-157.5 214.15,-157.5 222.32,-157.5\"/>\n<polygon fill=\"black\" stroke=\"black\" points=\"222.13,-161 232.13,-157.5 222.13,-154 222.13,-161\"/>\n</g>\n<!-- 5514111952 -->\n<g id=\"node7\" class=\"node\">\n<title>5514111952</title>\n<polygon fill=\"none\" stroke=\"black\" points=\"1.5,-84.5 1.5,-120.5 196.5,-120.5 196.5,-84.5 1.5,-84.5\"/>\n<text text-anchor=\"middle\" x=\"16.25\" y=\"-97.7\" font-family=\"Times,serif\" font-size=\"14.00\">x1</text>\n<polyline fill=\"none\" stroke=\"black\" points=\"31,-85 31,-120.5\"/>\n<text text-anchor=\"middle\" x=\"70.88\" y=\"-97.7\" font-family=\"Times,serif\" font-size=\"14.00\">data 2.0000</text>\n<polyline fill=\"none\" stroke=\"black\" points=\"110.75,-85 110.75,-120.5\"/>\n<text text-anchor=\"middle\" x=\"153.62\" y=\"-97.7\" font-family=\"Times,serif\" font-size=\"14.00\">grad &#45;1.5000</text>\n</g>\n<!-- 5513897296* -->\n<g id=\"node22\" class=\"node\">\n<title>5513897296*</title>\n<ellipse fill=\"none\" stroke=\"black\" cx=\"261\" cy=\"-102.5\" rx=\"27\" ry=\"18\"/>\n<text text-anchor=\"middle\" x=\"261\" y=\"-97.45\" font-family=\"Times,serif\" font-size=\"14.00\">*</text>\n</g>\n<!-- 5514111952&#45;&gt;5513897296* -->\n<g id=\"edge20\" class=\"edge\">\n<title>5514111952&#45;&gt;5513897296*</title>\n<path fill=\"none\" stroke=\"black\" d=\"M196.76,-102.5C205.77,-102.5 214.47,-102.5 222.4,-102.5\"/>\n<polygon fill=\"black\" stroke=\"black\" points=\"222.25,-106 232.25,-102.5 222.25,-99 222.25,-106\"/>\n</g>\n<!-- 5514114704 -->\n<g id=\"node8\" class=\"node\">\n<title>5514114704</title>\n<polygon fill=\"none\" stroke=\"black\" points=\"1374.75,-55.5 1374.75,-91.5 1555.5,-91.5 1555.5,-55.5 1374.75,-55.5\"/>\n<text text-anchor=\"middle\" x=\"1384.62\" y=\"-68.7\" font-family=\"Times,serif\" font-size=\"14.00\"> </text>\n<polyline fill=\"none\" stroke=\"black\" points=\"1394.5,-56 1394.5,-91.5\"/>\n<text text-anchor=\"middle\" x=\"1434.38\" y=\"-68.7\" font-family=\"Times,serif\" font-size=\"14.00\">data 1.7627</text>\n<polyline fill=\"none\" stroke=\"black\" points=\"1474.25,-56 1474.25,-91.5\"/>\n<text text-anchor=\"middle\" x=\"1514.88\" y=\"-68.7\" font-family=\"Times,serif\" font-size=\"14.00\">grad 0.2500</text>\n</g>\n<!-- 5204987152exp -->\n<g id=\"node15\" class=\"node\">\n<title>5204987152exp</title>\n<ellipse fill=\"none\" stroke=\"black\" cx=\"1618.5\" cy=\"-73.5\" rx=\"27\" ry=\"18\"/>\n<text text-anchor=\"middle\" x=\"1618.5\" y=\"-68.45\" font-family=\"Times,serif\" font-size=\"14.00\">exp</text>\n</g>\n<!-- 5514114704&#45;&gt;5204987152exp -->\n<g id=\"edge23\" class=\"edge\">\n<title>5514114704&#45;&gt;5204987152exp</title>\n<path fill=\"none\" stroke=\"black\" d=\"M1555.93,-73.5C1564.27,-73.5 1572.37,-73.5 1579.81,-73.5\"/>\n<polygon fill=\"black\" stroke=\"black\" points=\"1579.75,-77 1589.75,-73.5 1579.75,-70 1579.75,-77\"/>\n</g>\n<!-- 5514114704* -->\n<g id=\"node9\" class=\"node\">\n<title>5514114704*</title>\n<ellipse fill=\"none\" stroke=\"black\" cx=\"1311.75\" cy=\"-73.5\" rx=\"27\" ry=\"18\"/>\n<text text-anchor=\"middle\" x=\"1311.75\" y=\"-68.45\" font-family=\"Times,serif\" font-size=\"14.00\">*</text>\n</g>\n<!-- 5514114704*&#45;&gt;5514114704 -->\n<g id=\"edge3\" class=\"edge\">\n<title>5514114704*&#45;&gt;5514114704</title>\n<path fill=\"none\" stroke=\"black\" d=\"M1339.12,-73.5C1346.26,-73.5 1354.45,-73.5 1363.14,-73.5\"/>\n<polygon fill=\"black\" stroke=\"black\" points=\"1362.86,-77 1372.86,-73.5 1362.86,-70 1362.86,-77\"/>\n</g>\n<!-- 5514100880 -->\n<g id=\"node10\" class=\"node\">\n<title>5514100880</title>\n<polygon fill=\"none\" stroke=\"black\" points=\"711.75,-56.5 711.75,-92.5 895.5,-92.5 895.5,-56.5 711.75,-56.5\"/>\n<text text-anchor=\"middle\" x=\"723.12\" y=\"-69.7\" font-family=\"Times,serif\" font-size=\"14.00\">b</text>\n<polyline fill=\"none\" stroke=\"black\" points=\"734.5,-57 734.5,-92.5\"/>\n<text text-anchor=\"middle\" x=\"774.38\" y=\"-69.7\" font-family=\"Times,serif\" font-size=\"14.00\">data 6.8814</text>\n<polyline fill=\"none\" stroke=\"black\" points=\"814.25,-57 814.25,-92.5\"/>\n<text text-anchor=\"middle\" x=\"854.88\" y=\"-69.7\" font-family=\"Times,serif\" font-size=\"14.00\">grad 0.5000</text>\n</g>\n<!-- 5514102544+ -->\n<g id=\"node17\" class=\"node\">\n<title>5514102544+</title>\n<ellipse fill=\"none\" stroke=\"black\" cx=\"1002\" cy=\"-101.5\" rx=\"27\" ry=\"18\"/>\n<text text-anchor=\"middle\" x=\"1002\" y=\"-96.45\" font-family=\"Times,serif\" font-size=\"14.00\">+</text>\n</g>\n<!-- 5514100880&#45;&gt;5514102544+ -->\n<g id=\"edge25\" class=\"edge\">\n<title>5514100880&#45;&gt;5514102544+</title>\n<path fill=\"none\" stroke=\"black\" d=\"M895.91,-87.05C919.97,-90.36 944.58,-93.74 963.93,-96.4\"/>\n<polygon fill=\"black\" stroke=\"black\" points=\"963.36,-99.86 973.75,-97.75 964.32,-92.92 963.36,-99.86\"/>\n</g>\n<!-- 5514101456 -->\n<g id=\"node11\" class=\"node\">\n<title>5514101456</title>\n<polygon fill=\"none\" stroke=\"black\" points=\"2737.5,-54.5 2737.5,-90.5 2921.25,-90.5 2921.25,-54.5 2737.5,-54.5\"/>\n<text text-anchor=\"middle\" x=\"2748.88\" y=\"-67.7\" font-family=\"Times,serif\" font-size=\"14.00\">o</text>\n<polyline fill=\"none\" stroke=\"black\" points=\"2760.25,-55 2760.25,-90.5\"/>\n<text text-anchor=\"middle\" x=\"2800.12\" y=\"-67.7\" font-family=\"Times,serif\" font-size=\"14.00\">data 0.7071</text>\n<polyline fill=\"none\" stroke=\"black\" points=\"2840,-55 2840,-90.5\"/>\n<text text-anchor=\"middle\" x=\"2880.62\" y=\"-67.7\" font-family=\"Times,serif\" font-size=\"14.00\">grad 1.0000</text>\n</g>\n<!-- 5514101456*&#45;&gt;5514101456 -->\n<g id=\"edge4\" class=\"edge\">\n<title>5514101456*&#45;&gt;5514101456</title>\n<path fill=\"none\" stroke=\"black\" d=\"M2701.78,-72.5C2708.92,-72.5 2717.11,-72.5 2725.82,-72.5\"/>\n<polygon fill=\"black\" stroke=\"black\" points=\"2725.56,-76 2735.56,-72.5 2725.56,-69 2725.56,-76\"/>\n</g>\n<!-- 5514102480 -->\n<g id=\"node13\" class=\"node\">\n<title>5514102480</title>\n<polygon fill=\"none\" stroke=\"black\" points=\"1066.5,-28.5 1066.5,-64.5 1247.25,-64.5 1247.25,-28.5 1066.5,-28.5\"/>\n<text text-anchor=\"middle\" x=\"1076.38\" y=\"-41.7\" font-family=\"Times,serif\" font-size=\"14.00\"> </text>\n<polyline fill=\"none\" stroke=\"black\" points=\"1086.25,-29 1086.25,-64.5\"/>\n<text text-anchor=\"middle\" x=\"1126.12\" y=\"-41.7\" font-family=\"Times,serif\" font-size=\"14.00\">data 2.0000</text>\n<polyline fill=\"none\" stroke=\"black\" points=\"1166,-29 1166,-64.5\"/>\n<text text-anchor=\"middle\" x=\"1206.62\" y=\"-41.7\" font-family=\"Times,serif\" font-size=\"14.00\">grad 0.2203</text>\n</g>\n<!-- 5514102480&#45;&gt;5514114704* -->\n<g id=\"edge21\" class=\"edge\">\n<title>5514102480&#45;&gt;5514114704*</title>\n<path fill=\"none\" stroke=\"black\" d=\"M1247.69,-62.36C1256.94,-64 1265.93,-65.58 1274.08,-67.02\"/>\n<polygon fill=\"black\" stroke=\"black\" points=\"1273.41,-70.46 1283.87,-68.75 1274.63,-63.57 1273.41,-70.46\"/>\n</g>\n<!-- 5204987152 -->\n<g id=\"node14\" class=\"node\">\n<title>5204987152</title>\n<polygon fill=\"none\" stroke=\"black\" points=\"1683.75,-55.5 1683.75,-91.5 1864.5,-91.5 1864.5,-55.5 1683.75,-55.5\"/>\n<text text-anchor=\"middle\" x=\"1693.62\" y=\"-68.7\" font-family=\"Times,serif\" font-size=\"14.00\"> </text>\n<polyline fill=\"none\" stroke=\"black\" points=\"1703.5,-56 1703.5,-91.5\"/>\n<text text-anchor=\"middle\" x=\"1743.38\" y=\"-68.7\" font-family=\"Times,serif\" font-size=\"14.00\">data 5.8284</text>\n<polyline fill=\"none\" stroke=\"black\" points=\"1783.25,-56 1783.25,-91.5\"/>\n<text text-anchor=\"middle\" x=\"1823.88\" y=\"-68.7\" font-family=\"Times,serif\" font-size=\"14.00\">grad 0.0429</text>\n</g>\n<!-- 5204987152&#45;&gt;5514101776+ -->\n<g id=\"edge15\" class=\"edge\">\n<title>5204987152&#45;&gt;5514101776+</title>\n<path fill=\"none\" stroke=\"black\" d=\"M1864.93,-89.28C1874.48,-90.96 1883.76,-92.59 1892.14,-94.07\"/>\n<polygon fill=\"black\" stroke=\"black\" points=\"1891.39,-97.49 1901.85,-95.77 1892.61,-90.59 1891.39,-97.49\"/>\n</g>\n<!-- 5514103248+ -->\n<g id=\"node26\" class=\"node\">\n<title>5514103248+</title>\n<ellipse fill=\"none\" stroke=\"black\" cx=\"1929.75\" cy=\"-45.5\" rx=\"27\" ry=\"18\"/>\n<text text-anchor=\"middle\" x=\"1929.75\" y=\"-40.45\" font-family=\"Times,serif\" font-size=\"14.00\">+</text>\n</g>\n<!-- 5204987152&#45;&gt;5514103248+ -->\n<g id=\"edge26\" class=\"edge\">\n<title>5204987152&#45;&gt;5514103248+</title>\n<path fill=\"none\" stroke=\"black\" d=\"M1864.93,-57.13C1874.48,-55.39 1883.76,-53.7 1892.14,-52.17\"/>\n<polygon fill=\"black\" stroke=\"black\" points=\"1892.64,-55.64 1901.85,-50.4 1891.39,-48.75 1892.64,-55.64\"/>\n</g>\n<!-- 5204987152exp&#45;&gt;5204987152 -->\n<g id=\"edge5\" class=\"edge\">\n<title>5204987152exp&#45;&gt;5204987152</title>\n<path fill=\"none\" stroke=\"black\" d=\"M1645.91,-73.5C1653.62,-73.5 1662.54,-73.5 1672.01,-73.5\"/>\n<polygon fill=\"black\" stroke=\"black\" points=\"1671.82,-77 1681.82,-73.5 1671.82,-70 1671.82,-77\"/>\n</g>\n<!-- 5514102544 -->\n<g id=\"node16\" class=\"node\">\n<title>5514102544</title>\n<polygon fill=\"none\" stroke=\"black\" points=\"1065,-83.5 1065,-119.5 1248.75,-119.5 1248.75,-83.5 1065,-83.5\"/>\n<text text-anchor=\"middle\" x=\"1076.38\" y=\"-96.7\" font-family=\"Times,serif\" font-size=\"14.00\">n</text>\n<polyline fill=\"none\" stroke=\"black\" points=\"1087.75,-84 1087.75,-119.5\"/>\n<text text-anchor=\"middle\" x=\"1127.62\" y=\"-96.7\" font-family=\"Times,serif\" font-size=\"14.00\">data 0.8814</text>\n<polyline fill=\"none\" stroke=\"black\" points=\"1167.5,-84 1167.5,-119.5\"/>\n<text text-anchor=\"middle\" x=\"1208.12\" y=\"-96.7\" font-family=\"Times,serif\" font-size=\"14.00\">grad 0.5000</text>\n</g>\n<!-- 5514102544&#45;&gt;5514114704* -->\n<g id=\"edge27\" class=\"edge\">\n<title>5514102544&#45;&gt;5514114704*</title>\n<path fill=\"none\" stroke=\"black\" d=\"M1249.01,-84.81C1257.84,-83.19 1266.4,-81.62 1274.19,-80.2\"/>\n<polygon fill=\"black\" stroke=\"black\" points=\"1274.67,-83.67 1283.88,-78.42 1273.41,-76.78 1274.67,-83.67\"/>\n</g>\n<!-- 5514102544+&#45;&gt;5514102544 -->\n<g id=\"edge6\" class=\"edge\">\n<title>5514102544+&#45;&gt;5514102544</title>\n<path fill=\"none\" stroke=\"black\" d=\"M1029.28,-101.5C1036.42,-101.5 1044.61,-101.5 1053.32,-101.5\"/>\n<polygon fill=\"black\" stroke=\"black\" points=\"1053.06,-105 1063.06,-101.5 1053.06,-98 1053.06,-105\"/>\n</g>\n<!-- 5514102032 -->\n<g id=\"node18\" class=\"node\">\n<title>5514102032</title>\n<polygon fill=\"none\" stroke=\"black\" points=\"668.25,-111.5 668.25,-147.5 939,-147.5 939,-111.5 668.25,-111.5\"/>\n<text text-anchor=\"middle\" x=\"720.88\" y=\"-124.7\" font-family=\"Times,serif\" font-size=\"14.00\">x1*w1 + x2*w2</text>\n<polyline fill=\"none\" stroke=\"black\" points=\"773.5,-112 773.5,-147.5\"/>\n<text text-anchor=\"middle\" x=\"815.62\" y=\"-124.7\" font-family=\"Times,serif\" font-size=\"14.00\">data &#45;6.0000</text>\n<polyline fill=\"none\" stroke=\"black\" points=\"857.75,-112 857.75,-147.5\"/>\n<text text-anchor=\"middle\" x=\"898.38\" y=\"-124.7\" font-family=\"Times,serif\" font-size=\"14.00\">grad 0.5000</text>\n</g>\n<!-- 5514102032&#45;&gt;5514102544+ -->\n<g id=\"edge16\" class=\"edge\">\n<title>5514102032&#45;&gt;5514102544+</title>\n<path fill=\"none\" stroke=\"black\" d=\"M934.24,-111.02C944.99,-109.49 955.18,-108.03 964.21,-106.75\"/>\n<polygon fill=\"black\" stroke=\"black\" points=\"964.46,-110.25 973.86,-105.37 963.47,-103.32 964.46,-110.25\"/>\n</g>\n<!-- 5514102032+ -->\n<g id=\"node19\" class=\"node\">\n<title>5514102032+</title>\n<ellipse fill=\"none\" stroke=\"black\" cx=\"605.25\" cy=\"-129.5\" rx=\"27\" ry=\"18\"/>\n<text text-anchor=\"middle\" x=\"605.25\" y=\"-124.45\" font-family=\"Times,serif\" font-size=\"14.00\">+</text>\n</g>\n<!-- 5514102032+&#45;&gt;5514102032 -->\n<g id=\"edge7\" class=\"edge\">\n<title>5514102032+&#45;&gt;5514102032</title>\n<path fill=\"none\" stroke=\"black\" d=\"M632.73,-129.5C639.73,-129.5 647.79,-129.5 656.52,-129.5\"/>\n<polygon fill=\"black\" stroke=\"black\" points=\"656.39,-133 666.39,-129.5 656.39,-126 656.39,-133\"/>\n</g>\n<!-- 5514101200 -->\n<g id=\"node20\" class=\"node\">\n<title>5514101200</title>\n<polygon fill=\"none\" stroke=\"black\" points=\"1681.5,-0.5 1681.5,-36.5 1866.75,-36.5 1866.75,-0.5 1681.5,-0.5\"/>\n<text text-anchor=\"middle\" x=\"1691.38\" y=\"-13.7\" font-family=\"Times,serif\" font-size=\"14.00\"> </text>\n<polyline fill=\"none\" stroke=\"black\" points=\"1701.25,-1 1701.25,-36.5\"/>\n<text text-anchor=\"middle\" x=\"1743.38\" y=\"-13.7\" font-family=\"Times,serif\" font-size=\"14.00\">data &#45;1.0000</text>\n<polyline fill=\"none\" stroke=\"black\" points=\"1785.5,-1 1785.5,-36.5\"/>\n<text text-anchor=\"middle\" x=\"1826.12\" y=\"-13.7\" font-family=\"Times,serif\" font-size=\"14.00\">grad 0.1464</text>\n</g>\n<!-- 5514101200&#45;&gt;5514103248+ -->\n<g id=\"edge19\" class=\"edge\">\n<title>5514101200&#45;&gt;5514103248+</title>\n<path fill=\"none\" stroke=\"black\" d=\"M1867.15,-34.67C1875.89,-36.21 1884.36,-37.7 1892.08,-39.05\"/>\n<polygon fill=\"black\" stroke=\"black\" points=\"1891.2,-42.45 1901.66,-40.74 1892.41,-35.56 1891.2,-42.45\"/>\n</g>\n<!-- 5513897296 -->\n<g id=\"node21\" class=\"node\">\n<title>5513897296</title>\n<polygon fill=\"none\" stroke=\"black\" points=\"324,-84.5 324,-120.5 542.25,-120.5 542.25,-84.5 324,-84.5\"/>\n<text text-anchor=\"middle\" x=\"350.38\" y=\"-97.7\" font-family=\"Times,serif\" font-size=\"14.00\">x1*w1</text>\n<polyline fill=\"none\" stroke=\"black\" points=\"376.75,-85 376.75,-120.5\"/>\n<text text-anchor=\"middle\" x=\"418.88\" y=\"-97.7\" font-family=\"Times,serif\" font-size=\"14.00\">data &#45;6.0000</text>\n<polyline fill=\"none\" stroke=\"black\" points=\"461,-85 461,-120.5\"/>\n<text text-anchor=\"middle\" x=\"501.62\" y=\"-97.7\" font-family=\"Times,serif\" font-size=\"14.00\">grad 0.5000</text>\n</g>\n<!-- 5513897296&#45;&gt;5514102032+ -->\n<g id=\"edge22\" class=\"edge\">\n<title>5513897296&#45;&gt;5514102032+</title>\n<path fill=\"none\" stroke=\"black\" d=\"M542.35,-119.68C551.12,-121.07 559.54,-122.4 567.19,-123.62\"/>\n<polygon fill=\"black\" stroke=\"black\" points=\"566.59,-127.07 577.02,-125.18 567.69,-120.15 566.59,-127.07\"/>\n</g>\n<!-- 5513897296*&#45;&gt;5513897296 -->\n<g id=\"edge8\" class=\"edge\">\n<title>5513897296*&#45;&gt;5513897296</title>\n<path fill=\"none\" stroke=\"black\" d=\"M288.21,-102.5C295.29,-102.5 303.43,-102.5 312.17,-102.5\"/>\n<polygon fill=\"black\" stroke=\"black\" points=\"312.01,-106 322.01,-102.5 312.01,-99 312.01,-106\"/>\n</g>\n<!-- 5514101072 -->\n<g id=\"node23\" class=\"node\">\n<title>5514101072</title>\n<polygon fill=\"none\" stroke=\"black\" points=\"0,-29.5 0,-65.5 198,-65.5 198,-29.5 0,-29.5\"/>\n<text text-anchor=\"middle\" x=\"16.25\" y=\"-42.7\" font-family=\"Times,serif\" font-size=\"14.00\">w1</text>\n<polyline fill=\"none\" stroke=\"black\" points=\"32.5,-30 32.5,-65.5\"/>\n<text text-anchor=\"middle\" x=\"74.62\" y=\"-42.7\" font-family=\"Times,serif\" font-size=\"14.00\">data &#45;3.0000</text>\n<polyline fill=\"none\" stroke=\"black\" points=\"116.75,-30 116.75,-65.5\"/>\n<text text-anchor=\"middle\" x=\"157.38\" y=\"-42.7\" font-family=\"Times,serif\" font-size=\"14.00\">grad 1.0000</text>\n</g>\n<!-- 5514101072&#45;&gt;5513897296* -->\n<g id=\"edge12\" class=\"edge\">\n<title>5514101072&#45;&gt;5513897296*</title>\n<path fill=\"none\" stroke=\"black\" d=\"M168.91,-65.94C178.74,-68.93 188.67,-72.15 198,-75.5 207.96,-79.07 218.58,-83.47 228.18,-87.68\"/>\n<polygon fill=\"black\" stroke=\"black\" points=\"226.54,-90.78 237.1,-91.67 229.4,-84.39 226.54,-90.78\"/>\n</g>\n<!-- 5514105680 -->\n<g id=\"node24\" class=\"node\">\n<title>5514105680</title>\n<polygon fill=\"none\" stroke=\"black\" points=\"1681.5,-110.5 1681.5,-146.5 1866.75,-146.5 1866.75,-110.5 1681.5,-110.5\"/>\n<text text-anchor=\"middle\" x=\"1691.38\" y=\"-123.7\" font-family=\"Times,serif\" font-size=\"14.00\"> </text>\n<polyline fill=\"none\" stroke=\"black\" points=\"1701.25,-111 1701.25,-146.5\"/>\n<text text-anchor=\"middle\" x=\"1741.12\" y=\"-123.7\" font-family=\"Times,serif\" font-size=\"14.00\">data 1.0000</text>\n<polyline fill=\"none\" stroke=\"black\" points=\"1781,-111 1781,-146.5\"/>\n<text text-anchor=\"middle\" x=\"1823.88\" y=\"-123.7\" font-family=\"Times,serif\" font-size=\"14.00\">grad &#45;0.1036</text>\n</g>\n<!-- 5514105680&#45;&gt;5514101776+ -->\n<g id=\"edge11\" class=\"edge\">\n<title>5514105680&#45;&gt;5514101776+</title>\n<path fill=\"none\" stroke=\"black\" d=\"M1867.15,-111.73C1875.89,-110.13 1884.36,-108.59 1892.08,-107.18\"/>\n<polygon fill=\"black\" stroke=\"black\" points=\"1892.45,-110.67 1901.66,-105.44 1891.19,-103.79 1892.45,-110.67\"/>\n</g>\n<!-- 5514103248 -->\n<g id=\"node25\" class=\"node\">\n<title>5514103248</title>\n<polygon fill=\"none\" stroke=\"black\" points=\"2214,-27.5 2214,-63.5 2394.75,-63.5 2394.75,-27.5 2214,-27.5\"/>\n<text text-anchor=\"middle\" x=\"2223.88\" y=\"-40.7\" font-family=\"Times,serif\" font-size=\"14.00\"> </text>\n<polyline fill=\"none\" stroke=\"black\" points=\"2233.75,-28 2233.75,-63.5\"/>\n<text text-anchor=\"middle\" x=\"2273.62\" y=\"-40.7\" font-family=\"Times,serif\" font-size=\"14.00\">data 4.8284</text>\n<polyline fill=\"none\" stroke=\"black\" points=\"2313.5,-28 2313.5,-63.5\"/>\n<text text-anchor=\"middle\" x=\"2354.12\" y=\"-40.7\" font-family=\"Times,serif\" font-size=\"14.00\">grad 0.1464</text>\n</g>\n<!-- 5514103248&#45;&gt;5514101456* -->\n<g id=\"edge18\" class=\"edge\">\n<title>5514103248&#45;&gt;5514101456*</title>\n<path fill=\"none\" stroke=\"black\" d=\"M2394.96,-52.07C2472.25,-57.74 2580.03,-65.64 2636.17,-69.76\"/>\n<polygon fill=\"black\" stroke=\"black\" points=\"2635.59,-73.23 2645.82,-70.47 2636.1,-66.25 2635.59,-73.23\"/>\n</g>\n<!-- 5514103248+&#45;&gt;5514103248 -->\n<g id=\"edge9\" class=\"edge\">\n<title>5514103248+&#45;&gt;5514103248</title>\n<path fill=\"none\" stroke=\"black\" d=\"M1957.25,-45.5C2007.51,-45.5 2119.07,-45.5 2202.03,-45.5\"/>\n<polygon fill=\"black\" stroke=\"black\" points=\"2202.02,-49 2212.02,-45.5 2202.02,-42 2202.02,-49\"/>\n</g>\n<!-- 5514102224 -->\n<g id=\"node27\" class=\"node\">\n<title>5514102224</title>\n<polygon fill=\"none\" stroke=\"black\" points=\"326.25,-139.5 326.25,-175.5 540,-175.5 540,-139.5 326.25,-139.5\"/>\n<text text-anchor=\"middle\" x=\"352.62\" y=\"-152.7\" font-family=\"Times,serif\" font-size=\"14.00\">x2*w2</text>\n<polyline fill=\"none\" stroke=\"black\" points=\"379,-140 379,-175.5\"/>\n<text text-anchor=\"middle\" x=\"418.88\" y=\"-152.7\" font-family=\"Times,serif\" font-size=\"14.00\">data 0.0000</text>\n<polyline fill=\"none\" stroke=\"black\" points=\"458.75,-140 458.75,-175.5\"/>\n<text text-anchor=\"middle\" x=\"499.38\" y=\"-152.7\" font-family=\"Times,serif\" font-size=\"14.00\">grad 0.5000</text>\n</g>\n<!-- 5514102224&#45;&gt;5514102032+ -->\n<g id=\"edge14\" class=\"edge\">\n<title>5514102224&#45;&gt;5514102032+</title>\n<path fill=\"none\" stroke=\"black\" d=\"M540.42,-140.01C549.89,-138.45 559,-136.95 567.21,-135.6\"/>\n<polygon fill=\"black\" stroke=\"black\" points=\"567.75,-139.05 577.05,-133.98 566.62,-132.15 567.75,-139.05\"/>\n</g>\n<!-- 5514102224*&#45;&gt;5514102224 -->\n<g id=\"edge10\" class=\"edge\">\n<title>5514102224*&#45;&gt;5514102224</title>\n<path fill=\"none\" stroke=\"black\" d=\"M288.21,-157.5C296,-157.5 305.08,-157.5 314.82,-157.5\"/>\n<polygon fill=\"black\" stroke=\"black\" points=\"314.55,-161 324.55,-157.5 314.55,-154 314.55,-161\"/>\n</g>\n</g>\n</svg>\n",
      "text/plain": [
       "<graphviz.graphs.Digraph at 0x14887dc50>"
      ]
     },
     "execution_count": 106,
     "metadata": {},
     "output_type": "execute_result"
    }
   ],
   "source": [
    "# inputs x1, x2\n",
    "x1 = Value(2.0, label='x1')\n",
    "x2 = Value(0.0, label='x2')\n",
    "# weights w1,w2\n",
    "w1 = Value(-3.0, label='w1')\n",
    "w2 = Value(1.0, label='w2')\n",
    "# bias of the neuron\n",
    "b = Value(6.8813735870195432, label='b')\n",
    "\n",
    "x1w1 = x1*w1; x1w1.label = 'x1*w1'\n",
    "x2w2 = x2*w2; x2w2.label = 'x2*w2'\n",
    "x1w1x2w2 = x1w1 + x2w2; x1w1x2w2.label = 'x1*w1 + x2*w2'\n",
    "n = x1w1x2w2 + b; n.label = 'n'\n",
    "# ---\n",
    "e = (2*n).exp()\n",
    "o = (e -1) / (e + 1)\n",
    "# --- \n",
    "o.label = 'o'\n",
    "o.backward()\n",
    "draw_dot(o)"
   ]
  },
  {
   "cell_type": "code",
   "execution_count": 86,
   "metadata": {},
   "outputs": [
    {
     "data": {
      "image/svg+xml": "<?xml version=\"1.0\" encoding=\"UTF-8\" standalone=\"no\"?>\n<!DOCTYPE svg PUBLIC \"-//W3C//DTD SVG 1.1//EN\"\n \"http://www.w3.org/Graphics/SVG/1.1/DTD/svg11.dtd\">\n<!-- Generated by graphviz version 9.0.0 (0)\n -->\n<!-- Pages: 1 -->\n<svg width=\"1567pt\" height=\"210pt\"\n viewBox=\"0.00 0.00 1566.50 210.00\" xmlns=\"http://www.w3.org/2000/svg\" xmlns:xlink=\"http://www.w3.org/1999/xlink\">\n<g id=\"graph0\" class=\"graph\" transform=\"scale(1 1) rotate(0) translate(4 206)\">\n<polygon fill=\"white\" stroke=\"none\" points=\"-4,4 -4,-206 1562.5,-206 1562.5,4 -4,4\"/>\n<!-- 5511916048 -->\n<g id=\"node1\" class=\"node\">\n<title>5511916048</title>\n<polygon fill=\"none\" stroke=\"black\" points=\"711.75,-137.5 711.75,-173.5 895.5,-173.5 895.5,-137.5 711.75,-137.5\"/>\n<text text-anchor=\"middle\" x=\"723.12\" y=\"-150.7\" font-family=\"Times,serif\" font-size=\"14.00\">b</text>\n<polyline fill=\"none\" stroke=\"black\" points=\"734.5,-138 734.5,-173.5\"/>\n<text text-anchor=\"middle\" x=\"774.38\" y=\"-150.7\" font-family=\"Times,serif\" font-size=\"14.00\">data 6.8814</text>\n<polyline fill=\"none\" stroke=\"black\" points=\"814.25,-138 814.25,-173.5\"/>\n<text text-anchor=\"middle\" x=\"854.88\" y=\"-150.7\" font-family=\"Times,serif\" font-size=\"14.00\">grad 0.5000</text>\n</g>\n<!-- 5511912912+ -->\n<g id=\"node15\" class=\"node\">\n<title>5511912912+</title>\n<ellipse fill=\"none\" stroke=\"black\" cx=\"1002\" cy=\"-127.5\" rx=\"27\" ry=\"18\"/>\n<text text-anchor=\"middle\" x=\"1002\" y=\"-122.45\" font-family=\"Times,serif\" font-size=\"14.00\">+</text>\n</g>\n<!-- 5511916048&#45;&gt;5511912912+ -->\n<g id=\"edge12\" class=\"edge\">\n<title>5511916048&#45;&gt;5511912912+</title>\n<path fill=\"none\" stroke=\"black\" d=\"M895.91,-142.48C919.97,-139.05 944.58,-135.55 963.93,-132.79\"/>\n<polygon fill=\"black\" stroke=\"black\" points=\"964.34,-136.26 973.75,-131.39 963.35,-129.33 964.34,-136.26\"/>\n</g>\n<!-- 5511988240 -->\n<g id=\"node2\" class=\"node\">\n<title>5511988240</title>\n<polygon fill=\"none\" stroke=\"black\" points=\"0,-165.5 0,-201.5 198,-201.5 198,-165.5 0,-165.5\"/>\n<text text-anchor=\"middle\" x=\"16.25\" y=\"-178.7\" font-family=\"Times,serif\" font-size=\"14.00\">w1</text>\n<polyline fill=\"none\" stroke=\"black\" points=\"32.5,-166 32.5,-201.5\"/>\n<text text-anchor=\"middle\" x=\"74.62\" y=\"-178.7\" font-family=\"Times,serif\" font-size=\"14.00\">data &#45;3.0000</text>\n<polyline fill=\"none\" stroke=\"black\" points=\"116.75,-166 116.75,-201.5\"/>\n<text text-anchor=\"middle\" x=\"157.38\" y=\"-178.7\" font-family=\"Times,serif\" font-size=\"14.00\">grad 1.0000</text>\n</g>\n<!-- 5511911504* -->\n<g id=\"node6\" class=\"node\">\n<title>5511911504*</title>\n<ellipse fill=\"none\" stroke=\"black\" cx=\"261\" cy=\"-128.5\" rx=\"27\" ry=\"18\"/>\n<text text-anchor=\"middle\" x=\"261\" y=\"-123.45\" font-family=\"Times,serif\" font-size=\"14.00\">*</text>\n</g>\n<!-- 5511988240&#45;&gt;5511911504* -->\n<g id=\"edge7\" class=\"edge\">\n<title>5511988240&#45;&gt;5511911504*</title>\n<path fill=\"none\" stroke=\"black\" d=\"M172.12,-165.01C180.9,-162.35 189.7,-159.5 198,-156.5 208.09,-152.86 218.82,-148.27 228.47,-143.88\"/>\n<polygon fill=\"black\" stroke=\"black\" points=\"229.86,-147.09 237.45,-139.69 226.9,-140.75 229.86,-147.09\"/>\n</g>\n<!-- 5511918160 -->\n<g id=\"node3\" class=\"node\">\n<title>5511918160</title>\n<polygon fill=\"none\" stroke=\"black\" points=\"668.25,-82.5 668.25,-118.5 939,-118.5 939,-82.5 668.25,-82.5\"/>\n<text text-anchor=\"middle\" x=\"720.88\" y=\"-95.7\" font-family=\"Times,serif\" font-size=\"14.00\">x1*w1 + x2*w2</text>\n<polyline fill=\"none\" stroke=\"black\" points=\"773.5,-83 773.5,-118.5\"/>\n<text text-anchor=\"middle\" x=\"815.62\" y=\"-95.7\" font-family=\"Times,serif\" font-size=\"14.00\">data &#45;6.0000</text>\n<polyline fill=\"none\" stroke=\"black\" points=\"857.75,-83 857.75,-118.5\"/>\n<text text-anchor=\"middle\" x=\"898.38\" y=\"-95.7\" font-family=\"Times,serif\" font-size=\"14.00\">grad 0.5000</text>\n</g>\n<!-- 5511918160&#45;&gt;5511912912+ -->\n<g id=\"edge14\" class=\"edge\">\n<title>5511918160&#45;&gt;5511912912+</title>\n<path fill=\"none\" stroke=\"black\" d=\"M939.14,-118.99C947.95,-120.21 956.31,-121.36 963.87,-122.4\"/>\n<polygon fill=\"black\" stroke=\"black\" points=\"963.16,-125.83 973.55,-123.73 964.12,-118.9 963.16,-125.83\"/>\n</g>\n<!-- 5511918160+ -->\n<g id=\"node4\" class=\"node\">\n<title>5511918160+</title>\n<ellipse fill=\"none\" stroke=\"black\" cx=\"605.25\" cy=\"-100.5\" rx=\"27\" ry=\"18\"/>\n<text text-anchor=\"middle\" x=\"605.25\" y=\"-95.45\" font-family=\"Times,serif\" font-size=\"14.00\">+</text>\n</g>\n<!-- 5511918160+&#45;&gt;5511918160 -->\n<g id=\"edge1\" class=\"edge\">\n<title>5511918160+&#45;&gt;5511918160</title>\n<path fill=\"none\" stroke=\"black\" d=\"M632.73,-100.5C639.73,-100.5 647.79,-100.5 656.52,-100.5\"/>\n<polygon fill=\"black\" stroke=\"black\" points=\"656.39,-104 666.39,-100.5 656.39,-97 656.39,-104\"/>\n</g>\n<!-- 5511911504 -->\n<g id=\"node5\" class=\"node\">\n<title>5511911504</title>\n<polygon fill=\"none\" stroke=\"black\" points=\"324,-110.5 324,-146.5 542.25,-146.5 542.25,-110.5 324,-110.5\"/>\n<text text-anchor=\"middle\" x=\"350.38\" y=\"-123.7\" font-family=\"Times,serif\" font-size=\"14.00\">x1*w1</text>\n<polyline fill=\"none\" stroke=\"black\" points=\"376.75,-111 376.75,-146.5\"/>\n<text text-anchor=\"middle\" x=\"418.88\" y=\"-123.7\" font-family=\"Times,serif\" font-size=\"14.00\">data &#45;6.0000</text>\n<polyline fill=\"none\" stroke=\"black\" points=\"461,-111 461,-146.5\"/>\n<text text-anchor=\"middle\" x=\"501.62\" y=\"-123.7\" font-family=\"Times,serif\" font-size=\"14.00\">grad 0.5000</text>\n</g>\n<!-- 5511911504&#45;&gt;5511918160+ -->\n<g id=\"edge11\" class=\"edge\">\n<title>5511911504&#45;&gt;5511918160+</title>\n<path fill=\"none\" stroke=\"black\" d=\"M542.35,-110.69C551.12,-109.24 559.54,-107.86 567.19,-106.6\"/>\n<polygon fill=\"black\" stroke=\"black\" points=\"567.72,-110.06 577.02,-104.98 566.58,-103.15 567.72,-110.06\"/>\n</g>\n<!-- 5511911504*&#45;&gt;5511911504 -->\n<g id=\"edge2\" class=\"edge\">\n<title>5511911504*&#45;&gt;5511911504</title>\n<path fill=\"none\" stroke=\"black\" d=\"M288.21,-128.5C295.29,-128.5 303.43,-128.5 312.17,-128.5\"/>\n<polygon fill=\"black\" stroke=\"black\" points=\"312.01,-132 322.01,-128.5 312.01,-125 312.01,-132\"/>\n</g>\n<!-- 5511916112 -->\n<g id=\"node7\" class=\"node\">\n<title>5511916112</title>\n<polygon fill=\"none\" stroke=\"black\" points=\"326.25,-55.5 326.25,-91.5 540,-91.5 540,-55.5 326.25,-55.5\"/>\n<text text-anchor=\"middle\" x=\"352.62\" y=\"-68.7\" font-family=\"Times,serif\" font-size=\"14.00\">x2*w2</text>\n<polyline fill=\"none\" stroke=\"black\" points=\"379,-56 379,-91.5\"/>\n<text text-anchor=\"middle\" x=\"418.88\" y=\"-68.7\" font-family=\"Times,serif\" font-size=\"14.00\">data 0.0000</text>\n<polyline fill=\"none\" stroke=\"black\" points=\"458.75,-56 458.75,-91.5\"/>\n<text text-anchor=\"middle\" x=\"499.38\" y=\"-68.7\" font-family=\"Times,serif\" font-size=\"14.00\">grad 0.5000</text>\n</g>\n<!-- 5511916112&#45;&gt;5511918160+ -->\n<g id=\"edge6\" class=\"edge\">\n<title>5511916112&#45;&gt;5511918160+</title>\n<path fill=\"none\" stroke=\"black\" d=\"M540.42,-90.37C549.89,-91.87 559,-93.32 567.21,-94.62\"/>\n<polygon fill=\"black\" stroke=\"black\" points=\"566.63,-98.07 577.05,-96.18 567.72,-91.16 566.63,-98.07\"/>\n</g>\n<!-- 5511916112* -->\n<g id=\"node8\" class=\"node\">\n<title>5511916112*</title>\n<ellipse fill=\"none\" stroke=\"black\" cx=\"261\" cy=\"-73.5\" rx=\"27\" ry=\"18\"/>\n<text text-anchor=\"middle\" x=\"261\" y=\"-68.45\" font-family=\"Times,serif\" font-size=\"14.00\">*</text>\n</g>\n<!-- 5511916112*&#45;&gt;5511916112 -->\n<g id=\"edge3\" class=\"edge\">\n<title>5511916112*&#45;&gt;5511916112</title>\n<path fill=\"none\" stroke=\"black\" d=\"M288.21,-73.5C296,-73.5 305.08,-73.5 314.82,-73.5\"/>\n<polygon fill=\"black\" stroke=\"black\" points=\"314.55,-77 324.55,-73.5 314.55,-70 314.55,-77\"/>\n</g>\n<!-- 5511909456 -->\n<g id=\"node9\" class=\"node\">\n<title>5511909456</title>\n<polygon fill=\"none\" stroke=\"black\" points=\"2.25,-55.5 2.25,-91.5 195.75,-91.5 195.75,-55.5 2.25,-55.5\"/>\n<text text-anchor=\"middle\" x=\"18.5\" y=\"-68.7\" font-family=\"Times,serif\" font-size=\"14.00\">w2</text>\n<polyline fill=\"none\" stroke=\"black\" points=\"34.75,-56 34.75,-91.5\"/>\n<text text-anchor=\"middle\" x=\"74.62\" y=\"-68.7\" font-family=\"Times,serif\" font-size=\"14.00\">data 1.0000</text>\n<polyline fill=\"none\" stroke=\"black\" points=\"114.5,-56 114.5,-91.5\"/>\n<text text-anchor=\"middle\" x=\"155.12\" y=\"-68.7\" font-family=\"Times,serif\" font-size=\"14.00\">grad 0.0000</text>\n</g>\n<!-- 5511909456&#45;&gt;5511916112* -->\n<g id=\"edge9\" class=\"edge\">\n<title>5511909456&#45;&gt;5511916112*</title>\n<path fill=\"none\" stroke=\"black\" d=\"M195.84,-73.5C205.14,-73.5 214.15,-73.5 222.32,-73.5\"/>\n<polygon fill=\"black\" stroke=\"black\" points=\"222.13,-77 232.13,-73.5 222.13,-70 222.13,-77\"/>\n</g>\n<!-- 5511995472 -->\n<g id=\"node10\" class=\"node\">\n<title>5511995472</title>\n<polygon fill=\"none\" stroke=\"black\" points=\"3.75,-0.5 3.75,-36.5 194.25,-36.5 194.25,-0.5 3.75,-0.5\"/>\n<text text-anchor=\"middle\" x=\"18.5\" y=\"-13.7\" font-family=\"Times,serif\" font-size=\"14.00\">x2</text>\n<polyline fill=\"none\" stroke=\"black\" points=\"33.25,-1 33.25,-36.5\"/>\n<text text-anchor=\"middle\" x=\"73.12\" y=\"-13.7\" font-family=\"Times,serif\" font-size=\"14.00\">data 0.0000</text>\n<polyline fill=\"none\" stroke=\"black\" points=\"113,-1 113,-36.5\"/>\n<text text-anchor=\"middle\" x=\"153.62\" y=\"-13.7\" font-family=\"Times,serif\" font-size=\"14.00\">grad 0.5000</text>\n</g>\n<!-- 5511995472&#45;&gt;5511916112* -->\n<g id=\"edge13\" class=\"edge\">\n<title>5511995472&#45;&gt;5511916112*</title>\n<path fill=\"none\" stroke=\"black\" d=\"M168.91,-36.94C178.74,-39.93 188.67,-43.15 198,-46.5 207.96,-50.07 218.58,-54.47 228.18,-58.68\"/>\n<polygon fill=\"black\" stroke=\"black\" points=\"226.54,-61.78 237.1,-62.67 229.4,-55.39 226.54,-61.78\"/>\n</g>\n<!-- 5511912208 -->\n<g id=\"node11\" class=\"node\">\n<title>5511912208</title>\n<polygon fill=\"none\" stroke=\"black\" points=\"1374.75,-109.5 1374.75,-145.5 1558.5,-145.5 1558.5,-109.5 1374.75,-109.5\"/>\n<text text-anchor=\"middle\" x=\"1386.12\" y=\"-122.7\" font-family=\"Times,serif\" font-size=\"14.00\">o</text>\n<polyline fill=\"none\" stroke=\"black\" points=\"1397.5,-110 1397.5,-145.5\"/>\n<text text-anchor=\"middle\" x=\"1437.38\" y=\"-122.7\" font-family=\"Times,serif\" font-size=\"14.00\">data 0.7071</text>\n<polyline fill=\"none\" stroke=\"black\" points=\"1477.25,-110 1477.25,-145.5\"/>\n<text text-anchor=\"middle\" x=\"1517.88\" y=\"-122.7\" font-family=\"Times,serif\" font-size=\"14.00\">grad 1.0000</text>\n</g>\n<!-- 5511912208tanh -->\n<g id=\"node12\" class=\"node\">\n<title>5511912208tanh</title>\n<ellipse fill=\"none\" stroke=\"black\" cx=\"1311.75\" cy=\"-127.5\" rx=\"27\" ry=\"18\"/>\n<text text-anchor=\"middle\" x=\"1311.75\" y=\"-122.45\" font-family=\"Times,serif\" font-size=\"14.00\">tanh</text>\n</g>\n<!-- 5511912208tanh&#45;&gt;5511912208 -->\n<g id=\"edge4\" class=\"edge\">\n<title>5511912208tanh&#45;&gt;5511912208</title>\n<path fill=\"none\" stroke=\"black\" d=\"M1339.03,-127.5C1346.17,-127.5 1354.36,-127.5 1363.07,-127.5\"/>\n<polygon fill=\"black\" stroke=\"black\" points=\"1362.81,-131 1372.81,-127.5 1362.81,-124 1362.81,-131\"/>\n</g>\n<!-- 5511998352 -->\n<g id=\"node13\" class=\"node\">\n<title>5511998352</title>\n<polygon fill=\"none\" stroke=\"black\" points=\"1.5,-110.5 1.5,-146.5 196.5,-146.5 196.5,-110.5 1.5,-110.5\"/>\n<text text-anchor=\"middle\" x=\"16.25\" y=\"-123.7\" font-family=\"Times,serif\" font-size=\"14.00\">x1</text>\n<polyline fill=\"none\" stroke=\"black\" points=\"31,-111 31,-146.5\"/>\n<text text-anchor=\"middle\" x=\"70.88\" y=\"-123.7\" font-family=\"Times,serif\" font-size=\"14.00\">data 2.0000</text>\n<polyline fill=\"none\" stroke=\"black\" points=\"110.75,-111 110.75,-146.5\"/>\n<text text-anchor=\"middle\" x=\"153.62\" y=\"-123.7\" font-family=\"Times,serif\" font-size=\"14.00\">grad &#45;1.5000</text>\n</g>\n<!-- 5511998352&#45;&gt;5511911504* -->\n<g id=\"edge8\" class=\"edge\">\n<title>5511998352&#45;&gt;5511911504*</title>\n<path fill=\"none\" stroke=\"black\" d=\"M196.76,-128.5C205.77,-128.5 214.47,-128.5 222.4,-128.5\"/>\n<polygon fill=\"black\" stroke=\"black\" points=\"222.25,-132 232.25,-128.5 222.25,-125 222.25,-132\"/>\n</g>\n<!-- 5511912912 -->\n<g id=\"node14\" class=\"node\">\n<title>5511912912</title>\n<polygon fill=\"none\" stroke=\"black\" points=\"1065,-109.5 1065,-145.5 1248.75,-145.5 1248.75,-109.5 1065,-109.5\"/>\n<text text-anchor=\"middle\" x=\"1076.38\" y=\"-122.7\" font-family=\"Times,serif\" font-size=\"14.00\">n</text>\n<polyline fill=\"none\" stroke=\"black\" points=\"1087.75,-110 1087.75,-145.5\"/>\n<text text-anchor=\"middle\" x=\"1127.62\" y=\"-122.7\" font-family=\"Times,serif\" font-size=\"14.00\">data 0.8814</text>\n<polyline fill=\"none\" stroke=\"black\" points=\"1167.5,-110 1167.5,-145.5\"/>\n<text text-anchor=\"middle\" x=\"1208.12\" y=\"-122.7\" font-family=\"Times,serif\" font-size=\"14.00\">grad 0.5000</text>\n</g>\n<!-- 5511912912&#45;&gt;5511912208tanh -->\n<g id=\"edge10\" class=\"edge\">\n<title>5511912912&#45;&gt;5511912208tanh</title>\n<path fill=\"none\" stroke=\"black\" d=\"M1249.01,-127.5C1257.39,-127.5 1265.52,-127.5 1272.98,-127.5\"/>\n<polygon fill=\"black\" stroke=\"black\" points=\"1272.95,-131 1282.95,-127.5 1272.95,-124 1272.95,-131\"/>\n</g>\n<!-- 5511912912+&#45;&gt;5511912912 -->\n<g id=\"edge5\" class=\"edge\">\n<title>5511912912+&#45;&gt;5511912912</title>\n<path fill=\"none\" stroke=\"black\" d=\"M1029.28,-127.5C1036.42,-127.5 1044.61,-127.5 1053.32,-127.5\"/>\n<polygon fill=\"black\" stroke=\"black\" points=\"1053.06,-131 1063.06,-127.5 1053.06,-124 1053.06,-131\"/>\n</g>\n</g>\n</svg>\n",
      "text/plain": [
       "<graphviz.graphs.Digraph at 0x1488939d0>"
      ]
     },
     "execution_count": 86,
     "metadata": {},
     "output_type": "execute_result"
    }
   ],
   "source": [
    "draw_dot(o)"
   ]
  },
  {
   "cell_type": "code",
   "execution_count": 85,
   "metadata": {},
   "outputs": [],
   "source": [
    "o.backward()"
   ]
  },
  {
   "cell_type": "code",
   "execution_count": 79,
   "metadata": {},
   "outputs": [],
   "source": [
    "o.grad = 1.0\n",
    "\n",
    "topo = []\n",
    "visited = set()\n",
    "def build_topo(v):\n",
    "    if v not in visited:\n",
    "        visited.add(v)\n",
    "        for child in v._prev:\n",
    "            build_topo(child)\n",
    "        topo.append(v)\n",
    "build_topo(o)\n",
    "\n",
    "for node in reversed(topo):\n",
    "    node._backward()"
   ]
  },
  {
   "cell_type": "code",
   "execution_count": 76,
   "metadata": {},
   "outputs": [
    {
     "data": {
      "text/plain": [
       "[Value(data=0.0),\n",
       " Value(data=1.0),\n",
       " Value(data=0.0),\n",
       " Value(data=2.0),\n",
       " Value(data=-3.0),\n",
       " Value(data=-6.0),\n",
       " Value(data=-6.0),\n",
       " Value(data=6.881373587019543),\n",
       " Value(data=0.8813735870195432),\n",
       " Value(data=0.7071067811865476)]"
      ]
     },
     "execution_count": 76,
     "metadata": {},
     "output_type": "execute_result"
    }
   ],
   "source": [
    "# Using topological sort\n",
    "topo = []\n",
    "visited = set()\n",
    "def build_topo(v):\n",
    "    if v not in visited:\n",
    "        visited.add(v)\n",
    "        for child in v._prev:\n",
    "            build_topo(child)\n",
    "        topo.append(v)\n",
    "build_topo(o)\n",
    "topo"
   ]
  },
  {
   "cell_type": "code",
   "execution_count": 68,
   "metadata": {},
   "outputs": [],
   "source": [
    "o.grad = 1.0"
   ]
  },
  {
   "cell_type": "code",
   "execution_count": 69,
   "metadata": {},
   "outputs": [],
   "source": [
    "\n",
    "# using the update value class\n",
    "o._backward()"
   ]
  },
  {
   "cell_type": "code",
   "execution_count": 70,
   "metadata": {},
   "outputs": [],
   "source": [
    "n._backward()"
   ]
  },
  {
   "cell_type": "code",
   "execution_count": 72,
   "metadata": {},
   "outputs": [],
   "source": [
    "b._backward()"
   ]
  },
  {
   "cell_type": "code",
   "execution_count": 73,
   "metadata": {},
   "outputs": [],
   "source": [
    "x1w1x2w2._backward()"
   ]
  },
  {
   "cell_type": "code",
   "execution_count": 74,
   "metadata": {},
   "outputs": [],
   "source": [
    "x1w1._backward()\n",
    "x2w2._backward()"
   ]
  },
  {
   "cell_type": "code",
   "execution_count": 54,
   "metadata": {},
   "outputs": [],
   "source": [
    "x2.grad = w2.data * x2w2.grad\n",
    "w2.grad = x2.data * x2w2.grad\n",
    "x1.grad = w1.data * x1w1.grad\n",
    "w1.grad = x1.data * x1w1.grad"
   ]
  },
  {
   "cell_type": "code",
   "execution_count": 52,
   "metadata": {},
   "outputs": [],
   "source": [
    "x1w1.grad = 0.5\n",
    "x2w2.grad = 0.5"
   ]
  },
  {
   "cell_type": "code",
   "execution_count": 50,
   "metadata": {},
   "outputs": [],
   "source": [
    "x1w1x2w2.grad = 0.5\n",
    "b.grad = 0.5"
   ]
  },
  {
   "cell_type": "code",
   "execution_count": 46,
   "metadata": {},
   "outputs": [],
   "source": [
    "n.grad = 0.5"
   ]
  },
  {
   "cell_type": "code",
   "execution_count": 48,
   "metadata": {},
   "outputs": [],
   "source": [
    "o.grad = 1.0"
   ]
  },
  {
   "cell_type": "code",
   "execution_count": 42,
   "metadata": {},
   "outputs": [
    {
     "data": {
      "text/plain": [
       "0.4999999999999999"
      ]
     },
     "execution_count": 42,
     "metadata": {},
     "output_type": "execute_result"
    }
   ],
   "source": [
    "1 - o.data**2 "
   ]
  },
  {
   "cell_type": "code",
   "execution_count": null,
   "metadata": {},
   "outputs": [],
   "source": [
    "# o = tanh(n)\n",
    "# do/dn = 1 - tanh(n)**2 ---> 1 - o**2"
   ]
  },
  {
   "cell_type": "code",
   "execution_count": 91,
   "metadata": {},
   "outputs": [
    {
     "data": {
      "image/svg+xml": "<?xml version=\"1.0\" encoding=\"UTF-8\" standalone=\"no\"?>\n<!DOCTYPE svg PUBLIC \"-//W3C//DTD SVG 1.1//EN\"\n \"http://www.w3.org/Graphics/SVG/1.1/DTD/svg11.dtd\">\n<!-- Generated by graphviz version 9.0.0 (0)\n -->\n<!-- Pages: 1 -->\n<svg width=\"501pt\" height=\"45pt\"\n viewBox=\"0.00 0.00 500.75 45.00\" xmlns=\"http://www.w3.org/2000/svg\" xmlns:xlink=\"http://www.w3.org/1999/xlink\">\n<g id=\"graph0\" class=\"graph\" transform=\"scale(1 1) rotate(0) translate(4 41)\">\n<polygon fill=\"white\" stroke=\"none\" points=\"-4,4 -4,-41 496.75,-41 496.75,4 -4,4\"/>\n<!-- 5512338448 -->\n<g id=\"node1\" class=\"node\">\n<title>5512338448</title>\n<polygon fill=\"none\" stroke=\"black\" points=\"309,-0.5 309,-36.5 492.75,-36.5 492.75,-0.5 309,-0.5\"/>\n<text text-anchor=\"middle\" x=\"320.38\" y=\"-13.7\" font-family=\"Times,serif\" font-size=\"14.00\">b</text>\n<polyline fill=\"none\" stroke=\"black\" points=\"331.75,-1 331.75,-36.5\"/>\n<text text-anchor=\"middle\" x=\"371.62\" y=\"-13.7\" font-family=\"Times,serif\" font-size=\"14.00\">data 6.0000</text>\n<polyline fill=\"none\" stroke=\"black\" points=\"411.5,-1 411.5,-36.5\"/>\n<text text-anchor=\"middle\" x=\"452.12\" y=\"-13.7\" font-family=\"Times,serif\" font-size=\"14.00\">grad 1.0000</text>\n</g>\n<!-- 5512338448+ -->\n<g id=\"node2\" class=\"node\">\n<title>5512338448+</title>\n<ellipse fill=\"none\" stroke=\"black\" cx=\"246\" cy=\"-18.5\" rx=\"27\" ry=\"18\"/>\n<text text-anchor=\"middle\" x=\"246\" y=\"-13.45\" font-family=\"Times,serif\" font-size=\"14.00\">+</text>\n</g>\n<!-- 5512338448+&#45;&gt;5512338448 -->\n<g id=\"edge1\" class=\"edge\">\n<title>5512338448+&#45;&gt;5512338448</title>\n<path fill=\"none\" stroke=\"black\" d=\"M273.28,-18.5C280.42,-18.5 288.61,-18.5 297.32,-18.5\"/>\n<polygon fill=\"black\" stroke=\"black\" points=\"297.06,-22 307.06,-18.5 297.06,-15 297.06,-22\"/>\n</g>\n<!-- 5512332176 -->\n<g id=\"node3\" class=\"node\">\n<title>5512332176</title>\n<polygon fill=\"none\" stroke=\"black\" points=\"0,-0.5 0,-36.5 183,-36.5 183,-0.5 0,-0.5\"/>\n<text text-anchor=\"middle\" x=\"11\" y=\"-13.7\" font-family=\"Times,serif\" font-size=\"14.00\">a</text>\n<polyline fill=\"none\" stroke=\"black\" points=\"22,-1 22,-36.5\"/>\n<text text-anchor=\"middle\" x=\"61.88\" y=\"-13.7\" font-family=\"Times,serif\" font-size=\"14.00\">data 3.0000</text>\n<polyline fill=\"none\" stroke=\"black\" points=\"101.75,-1 101.75,-36.5\"/>\n<text text-anchor=\"middle\" x=\"142.38\" y=\"-13.7\" font-family=\"Times,serif\" font-size=\"14.00\">grad 2.0000</text>\n</g>\n<!-- 5512332176&#45;&gt;5512338448+ -->\n<g id=\"edge2\" class=\"edge\">\n<title>5512332176&#45;&gt;5512338448+</title>\n<path fill=\"none\" stroke=\"black\" d=\"M183.41,-18.5C191.77,-18.5 199.88,-18.5 207.32,-18.5\"/>\n<polygon fill=\"black\" stroke=\"black\" points=\"207.26,-22 217.26,-18.5 207.26,-15 207.26,-22\"/>\n</g>\n</g>\n</svg>\n",
      "text/plain": [
       "<graphviz.graphs.Digraph at 0x1488fae50>"
      ]
     },
     "execution_count": 91,
     "metadata": {},
     "output_type": "execute_result"
    }
   ],
   "source": [
    "# Understanding bug\n",
    "a = Value(3.0, label='a')\n",
    "b = a + a ; b.label = 'b'\n",
    "b.backward()\n",
    "draw_dot(b)"
   ]
  },
  {
   "cell_type": "code",
   "execution_count": 92,
   "metadata": {},
   "outputs": [
    {
     "data": {
      "image/svg+xml": "<?xml version=\"1.0\" encoding=\"UTF-8\" standalone=\"no\"?>\n<!DOCTYPE svg PUBLIC \"-//W3C//DTD SVG 1.1//EN\"\n \"http://www.w3.org/Graphics/SVG/1.1/DTD/svg11.dtd\">\n<!-- Generated by graphviz version 9.0.0 (0)\n -->\n<!-- Pages: 1 -->\n<svg width=\"826pt\" height=\"100pt\"\n viewBox=\"0.00 0.00 826.25 100.00\" xmlns=\"http://www.w3.org/2000/svg\" xmlns:xlink=\"http://www.w3.org/1999/xlink\">\n<g id=\"graph0\" class=\"graph\" transform=\"scale(1 1) rotate(0) translate(4 96)\">\n<polygon fill=\"white\" stroke=\"none\" points=\"-4,4 -4,-96 822.25,-96 822.25,4 -4,4\"/>\n<!-- 5512882768 -->\n<g id=\"node1\" class=\"node\">\n<title>5512882768</title>\n<polygon fill=\"none\" stroke=\"black\" points=\"318.38,-55.5 318.38,-91.5 505.88,-91.5 505.88,-55.5 318.38,-55.5\"/>\n<text text-anchor=\"middle\" x=\"329.38\" y=\"-68.7\" font-family=\"Times,serif\" font-size=\"14.00\">e</text>\n<polyline fill=\"none\" stroke=\"black\" points=\"340.38,-56 340.38,-91.5\"/>\n<text text-anchor=\"middle\" x=\"380.25\" y=\"-68.7\" font-family=\"Times,serif\" font-size=\"14.00\">data 1.0000</text>\n<polyline fill=\"none\" stroke=\"black\" points=\"420.12,-56 420.12,-91.5\"/>\n<text text-anchor=\"middle\" x=\"463\" y=\"-68.7\" font-family=\"Times,serif\" font-size=\"14.00\">grad &#45;6.0000</text>\n</g>\n<!-- 5512888016* -->\n<g id=\"node5\" class=\"node\">\n<title>5512888016*</title>\n<ellipse fill=\"none\" stroke=\"black\" cx=\"569.25\" cy=\"-45.5\" rx=\"27\" ry=\"18\"/>\n<text text-anchor=\"middle\" x=\"569.25\" y=\"-40.45\" font-family=\"Times,serif\" font-size=\"14.00\">*</text>\n</g>\n<!-- 5512882768&#45;&gt;5512888016* -->\n<g id=\"edge5\" class=\"edge\">\n<title>5512882768&#45;&gt;5512888016*</title>\n<path fill=\"none\" stroke=\"black\" d=\"M506.05,-56.73C514.96,-55.12 523.59,-53.56 531.44,-52.14\"/>\n<polygon fill=\"black\" stroke=\"black\" points=\"531.99,-55.6 541.21,-50.38 530.75,-48.71 531.99,-55.6\"/>\n</g>\n<!-- 5512882768+ -->\n<g id=\"node2\" class=\"node\">\n<title>5512882768+</title>\n<ellipse fill=\"none\" stroke=\"black\" cx=\"255\" cy=\"-73.5\" rx=\"27\" ry=\"18\"/>\n<text text-anchor=\"middle\" x=\"255\" y=\"-68.45\" font-family=\"Times,serif\" font-size=\"14.00\">+</text>\n</g>\n<!-- 5512882768+&#45;&gt;5512882768 -->\n<g id=\"edge1\" class=\"edge\">\n<title>5512882768+&#45;&gt;5512882768</title>\n<path fill=\"none\" stroke=\"black\" d=\"M282.31,-73.5C289.55,-73.5 297.86,-73.5 306.7,-73.5\"/>\n<polygon fill=\"black\" stroke=\"black\" points=\"306.62,-77 316.62,-73.5 306.62,-70 306.62,-77\"/>\n</g>\n<!-- 5511851664 -->\n<g id=\"node3\" class=\"node\">\n<title>5511851664</title>\n<polygon fill=\"none\" stroke=\"black\" points=\"0,-55.5 0,-91.5 192,-91.5 192,-55.5 0,-55.5\"/>\n<text text-anchor=\"middle\" x=\"11\" y=\"-68.7\" font-family=\"Times,serif\" font-size=\"14.00\">a</text>\n<polyline fill=\"none\" stroke=\"black\" points=\"22,-56 22,-91.5\"/>\n<text text-anchor=\"middle\" x=\"64.12\" y=\"-68.7\" font-family=\"Times,serif\" font-size=\"14.00\">data &#45;2.0000</text>\n<polyline fill=\"none\" stroke=\"black\" points=\"106.25,-56 106.25,-91.5\"/>\n<text text-anchor=\"middle\" x=\"149.12\" y=\"-68.7\" font-family=\"Times,serif\" font-size=\"14.00\">grad &#45;3.0000</text>\n</g>\n<!-- 5511851664&#45;&gt;5512882768+ -->\n<g id=\"edge7\" class=\"edge\">\n<title>5511851664&#45;&gt;5512882768+</title>\n<path fill=\"none\" stroke=\"black\" d=\"M192.4,-73.5C200.73,-73.5 208.79,-73.5 216.18,-73.5\"/>\n<polygon fill=\"black\" stroke=\"black\" points=\"216.05,-77 226.05,-73.5 216.05,-70 216.05,-77\"/>\n</g>\n<!-- 5512886736* -->\n<g id=\"node7\" class=\"node\">\n<title>5512886736*</title>\n<ellipse fill=\"none\" stroke=\"black\" cx=\"255\" cy=\"-18.5\" rx=\"27\" ry=\"18\"/>\n<text text-anchor=\"middle\" x=\"255\" y=\"-13.45\" font-family=\"Times,serif\" font-size=\"14.00\">*</text>\n</g>\n<!-- 5511851664&#45;&gt;5512886736* -->\n<g id=\"edge4\" class=\"edge\">\n<title>5511851664&#45;&gt;5512886736*</title>\n<path fill=\"none\" stroke=\"black\" d=\"M166.39,-55.06C175.08,-52.38 183.79,-49.5 192,-46.5 201.99,-42.85 212.63,-38.3 222.22,-33.93\"/>\n<polygon fill=\"black\" stroke=\"black\" points=\"223.55,-37.17 231.15,-29.78 220.6,-30.83 223.55,-37.17\"/>\n</g>\n<!-- 5512888016 -->\n<g id=\"node4\" class=\"node\">\n<title>5512888016</title>\n<polygon fill=\"none\" stroke=\"black\" points=\"632.25,-27.5 632.25,-63.5 818.25,-63.5 818.25,-27.5 632.25,-27.5\"/>\n<text text-anchor=\"middle\" x=\"642.5\" y=\"-40.7\" font-family=\"Times,serif\" font-size=\"14.00\">f</text>\n<polyline fill=\"none\" stroke=\"black\" points=\"652.75,-28 652.75,-63.5\"/>\n<text text-anchor=\"middle\" x=\"694.88\" y=\"-40.7\" font-family=\"Times,serif\" font-size=\"14.00\">data &#45;6.0000</text>\n<polyline fill=\"none\" stroke=\"black\" points=\"737,-28 737,-63.5\"/>\n<text text-anchor=\"middle\" x=\"777.62\" y=\"-40.7\" font-family=\"Times,serif\" font-size=\"14.00\">grad 1.0000</text>\n</g>\n<!-- 5512888016*&#45;&gt;5512888016 -->\n<g id=\"edge2\" class=\"edge\">\n<title>5512888016*&#45;&gt;5512888016</title>\n<path fill=\"none\" stroke=\"black\" d=\"M596.72,-45.5C603.86,-45.5 612.03,-45.5 620.71,-45.5\"/>\n<polygon fill=\"black\" stroke=\"black\" points=\"620.44,-49 630.44,-45.5 620.44,-42 620.44,-49\"/>\n</g>\n<!-- 5512886736 -->\n<g id=\"node6\" class=\"node\">\n<title>5512886736</title>\n<polygon fill=\"none\" stroke=\"black\" points=\"318,-0.5 318,-36.5 506.25,-36.5 506.25,-0.5 318,-0.5\"/>\n<text text-anchor=\"middle\" x=\"329.38\" y=\"-13.7\" font-family=\"Times,serif\" font-size=\"14.00\">d</text>\n<polyline fill=\"none\" stroke=\"black\" points=\"340.75,-1 340.75,-36.5\"/>\n<text text-anchor=\"middle\" x=\"382.88\" y=\"-13.7\" font-family=\"Times,serif\" font-size=\"14.00\">data &#45;6.0000</text>\n<polyline fill=\"none\" stroke=\"black\" points=\"425,-1 425,-36.5\"/>\n<text text-anchor=\"middle\" x=\"465.62\" y=\"-13.7\" font-family=\"Times,serif\" font-size=\"14.00\">grad 1.0000</text>\n</g>\n<!-- 5512886736&#45;&gt;5512888016* -->\n<g id=\"edge9\" class=\"edge\">\n<title>5512886736&#45;&gt;5512888016*</title>\n<path fill=\"none\" stroke=\"black\" d=\"M506.49,-34.75C515.27,-36.28 523.77,-37.76 531.51,-39.1\"/>\n<polygon fill=\"black\" stroke=\"black\" points=\"530.66,-42.51 541.11,-40.78 531.86,-35.61 530.66,-42.51\"/>\n</g>\n<!-- 5512886736*&#45;&gt;5512886736 -->\n<g id=\"edge3\" class=\"edge\">\n<title>5512886736*&#45;&gt;5512886736</title>\n<path fill=\"none\" stroke=\"black\" d=\"M282.31,-18.5C289.49,-18.5 297.72,-18.5 306.47,-18.5\"/>\n<polygon fill=\"black\" stroke=\"black\" points=\"306.29,-22 316.29,-18.5 306.29,-15 306.29,-22\"/>\n</g>\n<!-- 5512882128 -->\n<g id=\"node8\" class=\"node\">\n<title>5512882128</title>\n<polygon fill=\"none\" stroke=\"black\" points=\"1.88,-0.5 1.88,-36.5 190.12,-36.5 190.12,-0.5 1.88,-0.5\"/>\n<text text-anchor=\"middle\" x=\"13.25\" y=\"-13.7\" font-family=\"Times,serif\" font-size=\"14.00\">b</text>\n<polyline fill=\"none\" stroke=\"black\" points=\"24.62,-1 24.62,-36.5\"/>\n<text text-anchor=\"middle\" x=\"64.5\" y=\"-13.7\" font-family=\"Times,serif\" font-size=\"14.00\">data 3.0000</text>\n<polyline fill=\"none\" stroke=\"black\" points=\"104.38,-1 104.38,-36.5\"/>\n<text text-anchor=\"middle\" x=\"147.25\" y=\"-13.7\" font-family=\"Times,serif\" font-size=\"14.00\">grad &#45;8.0000</text>\n</g>\n<!-- 5512882128&#45;&gt;5512882768+ -->\n<g id=\"edge6\" class=\"edge\">\n<title>5512882128&#45;&gt;5512882768+</title>\n<path fill=\"none\" stroke=\"black\" d=\"M163.53,-36.96C173.14,-39.96 182.87,-43.18 192,-46.5 201.86,-50.08 212.39,-54.46 221.92,-58.63\"/>\n<polygon fill=\"black\" stroke=\"black\" points=\"220.23,-61.71 230.79,-62.59 223.09,-55.32 220.23,-61.71\"/>\n</g>\n<!-- 5512882128&#45;&gt;5512886736* -->\n<g id=\"edge8\" class=\"edge\">\n<title>5512882128&#45;&gt;5512886736*</title>\n<path fill=\"none\" stroke=\"black\" d=\"M190.59,-18.5C199.58,-18.5 208.29,-18.5 216.23,-18.5\"/>\n<polygon fill=\"black\" stroke=\"black\" points=\"216.11,-22 226.11,-18.5 216.11,-15 216.11,-22\"/>\n</g>\n</g>\n</svg>\n",
      "text/plain": [
       "<graphviz.graphs.Digraph at 0x148950d50>"
      ]
     },
     "execution_count": 92,
     "metadata": {},
     "output_type": "execute_result"
    }
   ],
   "source": [
    "a = Value(-2.0, label='a')\n",
    "b = Value(3.0, label='b')\n",
    "d = a * b    ; d.label = 'd'\n",
    "e = a + b    ; e.label = 'e'\n",
    "f = d * e    ; f.label = 'f'\n",
    "f.backward()\n",
    "draw_dot(f)"
   ]
  },
  {
   "cell_type": "code",
   "execution_count": 107,
   "metadata": {},
   "outputs": [],
   "source": [
    "import torch\n",
    "\n"
   ]
  },
  {
   "cell_type": "code",
   "execution_count": 108,
   "metadata": {},
   "outputs": [
    {
     "name": "stdout",
     "output_type": "stream",
     "text": [
      "0.7071066904050358\n",
      "---\n",
      "x2 0.5000001283844369\n",
      "w2 0.0\n",
      "x1 -1.5000003851533106\n",
      "w1 1.0000002567688737\n"
     ]
    }
   ],
   "source": [
    "x1 = torch.Tensor([2.0]).double()    ; x1.requires_grad = True\n",
    "x2 = torch.Tensor([0.0]).double()    ; x2.requires_grad = True\n",
    "w1 = torch.Tensor([-3.0]).double()   ; w1.requires_grad = True \n",
    "w2 = torch.Tensor([1.0]).double()    ; w2.requires_grad = True \n",
    "b = torch.Tensor([6.8813735870195432]).double()    ; b.requires_grad = True\n",
    "n = x1*w1 + x2*w2 + b\n",
    "o = torch.tanh(n)\n",
    "\n",
    "print(o.data.item())\n",
    "o.backward()\n",
    "\n",
    "print('---')\n",
    "print('x2', x2.grad.item())\n",
    "print('w2', w2.grad.item())\n",
    "print('x1', x1.grad.item())\n",
    "print('w1', w1.grad.item())"
   ]
  }
 ],
 "metadata": {
  "kernelspec": {
   "display_name": "Python 3.11.8 ('linearalgebra')",
   "language": "python",
   "name": "python3"
  },
  "language_info": {
   "codemirror_mode": {
    "name": "ipython",
    "version": 3
   },
   "file_extension": ".py",
   "mimetype": "text/x-python",
   "name": "python",
   "nbconvert_exporter": "python",
   "pygments_lexer": "ipython3",
   "version": "3.11.10"
  },
  "orig_nbformat": 4,
  "vscode": {
   "interpreter": {
    "hash": "3b6fb75eb0a60cb66b5f1e1a99c12c11760e481ce64b5dd6c0f64d106266ef62"
   }
  }
 },
 "nbformat": 4,
 "nbformat_minor": 2
}
